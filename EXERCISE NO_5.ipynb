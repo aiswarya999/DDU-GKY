{
 "cells": [
  {
   "cell_type": "markdown",
   "id": "4ee82cef",
   "metadata": {},
   "source": [
    "## 1.Write a program to check if the given number is Armstrong or not."
   ]
  },
  {
   "cell_type": "code",
   "execution_count": 2,
   "id": "94fa2543",
   "metadata": {
    "scrolled": true
   },
   "outputs": [
    {
     "name": "stdout",
     "output_type": "stream",
     "text": [
      "enter a num:407\n",
      "407\n",
      "Amstrong\n"
     ]
    }
   ],
   "source": [
    "## 407=4^3+0^3+7^3\n",
    "\n",
    "a=n=int(input('enter a num:'))\n",
    "amstrong=0\n",
    "while n>0:\n",
    "    reminder=n%10\n",
    "    amstrong=amstrong+(reminder**3)\n",
    "    n=n//10\n",
    "print(amstrong)\n",
    "if a==amstrong:\n",
    "    print(\"Amstrong\")\n",
    "else:\n",
    "    print(\"Its not\")"
   ]
  },
  {
   "cell_type": "markdown",
   "id": "a2202739",
   "metadata": {},
   "source": [
    "## 2.Write a program to check if the given strings are anagram or not."
   ]
  },
  {
   "cell_type": "code",
   "execution_count": 3,
   "id": "ac3c4471",
   "metadata": {},
   "outputs": [
    {
     "name": "stdout",
     "output_type": "stream",
     "text": [
      "enter a word:LISTEN\n",
      "enter a word:SILENT\n",
      "Anagram\n"
     ]
    }
   ],
   "source": [
    "## LISTEN -> SILENT\n",
    "\n",
    "a=input(\"enter a word:\")\n",
    "b=input('enter a word:')\n",
    "flag=0\n",
    "for i in a:\n",
    "    for j in b:\n",
    "        if i in b:\n",
    "            if len(a)==len(b):\n",
    "                flag=1\n",
    "if flag==1:\n",
    "    print('Anagram')\n",
    "else:\n",
    "    print('its not anagram')"
   ]
  },
  {
   "cell_type": "markdown",
   "id": "1f48d969",
   "metadata": {},
   "source": [
    "## 3.Write a program to find a Fibonacci of a number."
   ]
  },
  {
   "cell_type": "code",
   "execution_count": 4,
   "id": "105f8cfd",
   "metadata": {},
   "outputs": [
    {
     "name": "stdout",
     "output_type": "stream",
     "text": [
      "enter a number:7\n",
      "0 1 1 2 3 5 8 "
     ]
    }
   ],
   "source": [
    "# 0 1 1 2 3 5 8\n",
    "\n",
    "n=int(input(\"enter a number:\"))\n",
    "n1=0\n",
    "n2=1\n",
    "print(n1,n2,end=' ')\n",
    "for i in range(2,n):\n",
    "    c=n1+n2\n",
    "    n1=n2\n",
    "    n2=c\n",
    "    print(c,end=' ')"
   ]
  },
  {
   "cell_type": "markdown",
   "id": "bd1f0b00",
   "metadata": {},
   "source": [
    "## 4.Write a program to find GCD of two numbers."
   ]
  },
  {
   "cell_type": "code",
   "execution_count": 5,
   "id": "8780d483",
   "metadata": {},
   "outputs": [
    {
     "name": "stdout",
     "output_type": "stream",
     "text": [
      "enter the 1st num:12\n",
      "enter the 2nd num:26\n",
      "2\n"
     ]
    }
   ],
   "source": [
    "a=int(input(\"enter the 1st num:\"))\n",
    "b=int(input(\"enter the 2nd num:\"))\n",
    "while b!=0:\n",
    "    gcd = b\n",
    "    b = a%b\n",
    "    a= gcd\n",
    "print(gcd)    "
   ]
  },
  {
   "cell_type": "markdown",
   "id": "abaa46f6",
   "metadata": {},
   "source": [
    "## 5.Write a program to print the following pattern."
   ]
  },
  {
   "cell_type": "code",
   "execution_count": 17,
   "id": "c84206c1",
   "metadata": {},
   "outputs": [
    {
     "name": "stdout",
     "output_type": "stream",
     "text": [
      "        \n",
      "       * \n",
      "      * * \n",
      "     * * * \n",
      "    * * * * \n",
      "   * * * * * \n",
      "  * * * * * * \n",
      " * * * * * * * \n"
     ]
    }
   ],
   "source": [
    "for i in range(8):\n",
    "    for j in range (8-i):\n",
    "        print(end=\" \")\n",
    "    for j in range(i):\n",
    "        print('*',end=\" \")\n",
    "    print()   "
   ]
  },
  {
   "cell_type": "markdown",
   "id": "6e4e30f2",
   "metadata": {},
   "source": [
    "## 6.Write a program to print the following pattern."
   ]
  },
  {
   "cell_type": "markdown",
   "id": "85a7d29f",
   "metadata": {},
   "source": [
    "### 1\n",
    "### 2 3\n",
    "### 4 5 6\n",
    "### 7 8 9 10"
   ]
  },
  {
   "cell_type": "code",
   "execution_count": 6,
   "id": "5ab798f7",
   "metadata": {},
   "outputs": [
    {
     "name": "stdout",
     "output_type": "stream",
     "text": [
      "1 \n",
      "2 3 \n",
      "4 5 6 \n",
      "7 8 9 10 \n"
     ]
    }
   ],
   "source": [
    "n=1\n",
    "for i in range(4):\n",
    "    for j in range(i+1):\n",
    "        print(n,end=\" \")\n",
    "        n+=1\n",
    "    print()"
   ]
  },
  {
   "cell_type": "markdown",
   "id": "683a2bc3",
   "metadata": {},
   "source": [
    "## 7.Write a program to print the following pattern."
   ]
  },
  {
   "cell_type": "markdown",
   "id": "f93efae7",
   "metadata": {},
   "source": [
    "#### A\n",
    "#### B B\n",
    "#### C C C \n",
    "#### D D D D"
   ]
  },
  {
   "cell_type": "code",
   "execution_count": 11,
   "id": "af174d2b",
   "metadata": {},
   "outputs": [
    {
     "name": "stdout",
     "output_type": "stream",
     "text": [
      "A \n",
      "B B \n",
      "C C C \n",
      "D D D D \n",
      "E E E E E \n",
      "F F F F F F \n",
      "G G G G G G G \n",
      "H H H H H H H H \n",
      "I I I I I I I I I \n",
      "J J J J J J J J J J \n",
      "K K K K K K K K K K K \n",
      "L L L L L L L L L L L L \n",
      "M M M M M M M M M M M M M \n",
      "N N N N N N N N N N N N N N \n",
      "O O O O O O O O O O O O O O O \n",
      "P P P P P P P P P P P P P P P P \n",
      "Q Q Q Q Q Q Q Q Q Q Q Q Q Q Q Q Q \n",
      "R R R R R R R R R R R R R R R R R R \n"
     ]
    }
   ],
   "source": [
    "a=['A','B','C','D','E','F','G','H','I','J','K','L','M','N','O','P','Q','R']\n",
    "for i in range(18):\n",
    "    for j in range(i+1):\n",
    "        print(a[i],end=' ')\n",
    "    print()    "
   ]
  },
  {
   "cell_type": "markdown",
   "id": "bc804f3b",
   "metadata": {},
   "source": [
    "## 8.Write a program to print the following pattern."
   ]
  },
  {
   "cell_type": "markdown",
   "id": "a56f544b",
   "metadata": {},
   "source": [
    "#### A\n",
    "#### B C\n",
    "#### D E F \n",
    "#### G H I J"
   ]
  },
  {
   "cell_type": "code",
   "execution_count": 8,
   "id": "f6f6f121",
   "metadata": {},
   "outputs": [
    {
     "name": "stdout",
     "output_type": "stream",
     "text": [
      "A \n",
      "B C \n",
      "D E F \n",
      "G H I J \n"
     ]
    }
   ],
   "source": [
    "a=['A','B','C','D','E','F','G','H','I','J']\n",
    "n=0\n",
    "for i in range(4):\n",
    "    for j in range(i+1):\n",
    "        print(a[n],end=\" \")\n",
    "        n+=1\n",
    "    print()"
   ]
  },
  {
   "cell_type": "code",
   "execution_count": null,
   "id": "94460e99",
   "metadata": {},
   "outputs": [],
   "source": []
  }
 ],
 "metadata": {
  "kernelspec": {
   "display_name": "Python 3 (ipykernel)",
   "language": "python",
   "name": "python3"
  },
  "language_info": {
   "codemirror_mode": {
    "name": "ipython",
    "version": 3
   },
   "file_extension": ".py",
   "mimetype": "text/x-python",
   "name": "python",
   "nbconvert_exporter": "python",
   "pygments_lexer": "ipython3",
   "version": "3.9.13"
  }
 },
 "nbformat": 4,
 "nbformat_minor": 5
}
