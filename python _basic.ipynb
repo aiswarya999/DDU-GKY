{
 "cells": [
  {
   "cell_type": "code",
   "execution_count": 1,
   "id": "77a864a0",
   "metadata": {},
   "outputs": [],
   "source": [
    "#print the word we are indians"
   ]
  },
  {
   "cell_type": "code",
   "execution_count": 2,
   "id": "3ef50254",
   "metadata": {},
   "outputs": [
    {
     "name": "stdout",
     "output_type": "stream",
     "text": [
      "we are indians\n"
     ]
    }
   ],
   "source": [
    "print(\"we are indians\")"
   ]
  },
  {
   "cell_type": "code",
   "execution_count": 3,
   "id": "31c78e0b",
   "metadata": {},
   "outputs": [
    {
     "name": "stdout",
     "output_type": "stream",
     "text": [
      "python is aswesome\n"
     ]
    }
   ],
   "source": [
    "print(\"python is aswesome\")"
   ]
  },
  {
   "cell_type": "code",
   "execution_count": 4,
   "id": "40090389",
   "metadata": {},
   "outputs": [
    {
     "name": "stdout",
     "output_type": "stream",
     "text": [
      "my name is aiswarya\n"
     ]
    }
   ],
   "source": [
    "print(\"my name is aiswarya\")"
   ]
  },
  {
   "cell_type": "code",
   "execution_count": 5,
   "id": "cdbc0eb1",
   "metadata": {},
   "outputs": [
    {
     "name": "stdout",
     "output_type": "stream",
     "text": [
      "hello world\n"
     ]
    }
   ],
   "source": [
    "print(\"hello world\")"
   ]
  },
  {
   "cell_type": "code",
   "execution_count": 6,
   "id": "b511b67b",
   "metadata": {},
   "outputs": [
    {
     "name": "stdout",
     "output_type": "stream",
     "text": [
      "20\n"
     ]
    }
   ],
   "source": [
    "print(20)"
   ]
  },
  {
   "cell_type": "code",
   "execution_count": 7,
   "id": "d9793487",
   "metadata": {},
   "outputs": [],
   "source": [
    "#comment i am started to learn python\n",
    "#i am started to learn python"
   ]
  },
  {
   "cell_type": "code",
   "execution_count": 8,
   "id": "1600ba27",
   "metadata": {},
   "outputs": [],
   "source": [
    "#print(\"hello\")"
   ]
  },
  {
   "cell_type": "code",
   "execution_count": 9,
   "id": "4bf4b24e",
   "metadata": {},
   "outputs": [],
   "source": [
    "#python\n",
    "#is\n",
    "#a\n",
    "#programming \n",
    "#language"
   ]
  },
  {
   "cell_type": "code",
   "execution_count": 10,
   "id": "8539af85",
   "metadata": {},
   "outputs": [
    {
     "data": {
      "text/plain": [
       "'python is simple'"
      ]
     },
     "execution_count": 10,
     "metadata": {},
     "output_type": "execute_result"
    }
   ],
   "source": [
    "#\"\"\"python \n",
    "#is simple\"\"\""
   ]
  },
  {
   "cell_type": "code",
   "execution_count": null,
   "id": "28ef42f5",
   "metadata": {},
   "outputs": [],
   "source": []
  }
 ],
 "metadata": {
  "kernelspec": {
   "display_name": "Python 3 (ipykernel)",
   "language": "python",
   "name": "python3"
  },
  "language_info": {
   "codemirror_mode": {
    "name": "ipython",
    "version": 3
   },
   "file_extension": ".py",
   "mimetype": "text/x-python",
   "name": "python",
   "nbconvert_exporter": "python",
   "pygments_lexer": "ipython3",
   "version": "3.9.13"
  }
 },
 "nbformat": 4,
 "nbformat_minor": 5
}
