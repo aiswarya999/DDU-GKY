{
 "cells": [
  {
   "cell_type": "markdown",
   "id": "49bb53e7",
   "metadata": {},
   "source": [
    "### Assign a name to a variable and print it."
   ]
  },
  {
   "cell_type": "code",
   "execution_count": 1,
   "id": "65b3486e",
   "metadata": {},
   "outputs": [
    {
     "name": "stdout",
     "output_type": "stream",
     "text": [
      "Aiswarya\n"
     ]
    }
   ],
   "source": [
    "x=\"Aiswarya\"\n",
    "print(x)"
   ]
  },
  {
   "cell_type": "markdown",
   "id": "eda0870a",
   "metadata": {},
   "source": [
    "### Create a variable starting with underscore and print it."
   ]
  },
  {
   "cell_type": "code",
   "execution_count": 2,
   "id": "4db7856f",
   "metadata": {},
   "outputs": [
    {
     "name": "stdout",
     "output_type": "stream",
     "text": [
      "i am busy\n"
     ]
    }
   ],
   "source": [
    "_b=\"i am busy\"\n",
    "print(_b)"
   ]
  },
  {
   "cell_type": "code",
   "execution_count": 3,
   "id": "d1cdaf5a",
   "metadata": {},
   "outputs": [
    {
     "name": "stdout",
     "output_type": "stream",
     "text": [
      "24\n",
      "54.1\n",
      "me\n"
     ]
    }
   ],
   "source": [
    "x=24\n",
    "y=54.1\n",
    "z=\"me\"\n",
    "print(x)\n",
    "print(y)\n",
    "print(z)"
   ]
  },
  {
   "cell_type": "code",
   "execution_count": 4,
   "id": "94ac3248",
   "metadata": {},
   "outputs": [],
   "source": [
    "#python is a popular programming language. It was created by Gudio Van Rossom and released in 1991"
   ]
  },
  {
   "cell_type": "code",
   "execution_count": 5,
   "id": "166719e3",
   "metadata": {},
   "outputs": [
    {
     "name": "stdout",
     "output_type": "stream",
     "text": [
      "orange\n",
      "orange\n",
      "orange\n"
     ]
    }
   ],
   "source": [
    "d=g=j=\"orange\"\n",
    "print(d)\n",
    "print(g)\n",
    "print(j)"
   ]
  },
  {
   "cell_type": "code",
   "execution_count": 6,
   "id": "faaa7bf5",
   "metadata": {},
   "outputs": [
    {
     "name": "stdout",
     "output_type": "stream",
     "text": [
      "3\n",
      "4\n",
      "5\n"
     ]
    }
   ],
   "source": [
    "x,y,z=3,4,5\n",
    "print(x)\n",
    "print(y)\n",
    "print(z)"
   ]
  },
  {
   "cell_type": "code",
   "execution_count": 7,
   "id": "a39a89c1",
   "metadata": {},
   "outputs": [
    {
     "name": "stdout",
     "output_type": "stream",
     "text": [
      "volvo\n"
     ]
    }
   ],
   "source": [
    "carname=\"volvo\"\n",
    "print(carname)"
   ]
  },
  {
   "cell_type": "code",
   "execution_count": 8,
   "id": "84e0874a",
   "metadata": {},
   "outputs": [],
   "source": [
    "x=50"
   ]
  },
  {
   "cell_type": "code",
   "execution_count": 9,
   "id": "3ff01111",
   "metadata": {},
   "outputs": [
    {
     "name": "stdout",
     "output_type": "stream",
     "text": [
      "john\n"
     ]
    }
   ],
   "source": [
    "myfirst_name=\"john\"\n",
    "print(myfirst_name)"
   ]
  },
  {
   "cell_type": "code",
   "execution_count": null,
   "id": "8e81eaed",
   "metadata": {},
   "outputs": [],
   "source": []
  }
 ],
 "metadata": {
  "kernelspec": {
   "display_name": "Python 3 (ipykernel)",
   "language": "python",
   "name": "python3"
  },
  "language_info": {
   "codemirror_mode": {
    "name": "ipython",
    "version": 3
   },
   "file_extension": ".py",
   "mimetype": "text/x-python",
   "name": "python",
   "nbconvert_exporter": "python",
   "pygments_lexer": "ipython3",
   "version": "3.9.13"
  }
 },
 "nbformat": 4,
 "nbformat_minor": 5
}
