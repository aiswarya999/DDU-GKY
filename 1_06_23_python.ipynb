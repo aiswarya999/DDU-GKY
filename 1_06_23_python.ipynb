{
 "cells": [
  {
   "cell_type": "code",
   "execution_count": 1,
   "id": "88522abb",
   "metadata": {},
   "outputs": [
    {
     "name": "stdout",
     "output_type": "stream",
     "text": [
      "Hello World\n"
     ]
    }
   ],
   "source": [
    "a=\"Hello World\"\n",
    "print(a)"
   ]
  },
  {
   "cell_type": "code",
   "execution_count": 2,
   "id": "ab85dc8f",
   "metadata": {},
   "outputs": [
    {
     "name": "stdout",
     "output_type": "stream",
     "text": [
      "H\n"
     ]
    }
   ],
   "source": [
    "print(a[0])"
   ]
  },
  {
   "cell_type": "code",
   "execution_count": 3,
   "id": "365344a0",
   "metadata": {},
   "outputs": [
    {
     "name": "stdout",
     "output_type": "stream",
     "text": [
      "W\n"
     ]
    }
   ],
   "source": [
    "print(a[6])"
   ]
  },
  {
   "cell_type": "code",
   "execution_count": 4,
   "id": "852bd8d9",
   "metadata": {},
   "outputs": [
    {
     "name": "stdout",
     "output_type": "stream",
     "text": [
      "HELLO\n"
     ]
    }
   ],
   "source": [
    "b=\"Hello\"\n",
    "print(b.upper())"
   ]
  },
  {
   "cell_type": "code",
   "execution_count": 5,
   "id": "b430340f",
   "metadata": {},
   "outputs": [
    {
     "name": "stdout",
     "output_type": "stream",
     "text": [
      "hello\n"
     ]
    }
   ],
   "source": [
    "print(b.lower())"
   ]
  },
  {
   "cell_type": "code",
   "execution_count": 6,
   "id": "61a42d73",
   "metadata": {},
   "outputs": [
    {
     "name": "stdout",
     "output_type": "stream",
     "text": [
      "ello\n"
     ]
    }
   ],
   "source": [
    "print(a[1:5])"
   ]
  },
  {
   "cell_type": "code",
   "execution_count": 7,
   "id": "d5df0686",
   "metadata": {},
   "outputs": [
    {
     "name": "stdout",
     "output_type": "stream",
     "text": [
      "Hello\n"
     ]
    }
   ],
   "source": [
    "print(a[:5])"
   ]
  },
  {
   "cell_type": "code",
   "execution_count": 8,
   "id": "c7b4a354",
   "metadata": {},
   "outputs": [
    {
     "name": "stdout",
     "output_type": "stream",
     "text": [
      "Worl\n"
     ]
    }
   ],
   "source": [
    "print(a[-5:-1])"
   ]
  },
  {
   "cell_type": "code",
   "execution_count": 9,
   "id": "ee3aef4e",
   "metadata": {},
   "outputs": [
    {
     "data": {
      "text/plain": [
       "'HDCGSNDH'"
      ]
     },
     "execution_count": 9,
     "metadata": {},
     "output_type": "execute_result"
    }
   ],
   "source": [
    "'hdcgsndh'.upper()"
   ]
  },
  {
   "cell_type": "code",
   "execution_count": 10,
   "id": "be061654",
   "metadata": {},
   "outputs": [
    {
     "data": {
      "text/plain": [
       "'hdcgsndh'"
      ]
     },
     "execution_count": 10,
     "metadata": {},
     "output_type": "execute_result"
    }
   ],
   "source": [
    "'HDCGSNDH'.lower()"
   ]
  },
  {
   "cell_type": "code",
   "execution_count": 11,
   "id": "573cc5ff",
   "metadata": {},
   "outputs": [
    {
     "name": "stdout",
     "output_type": "stream",
     "text": [
      "Hello World\n"
     ]
    }
   ],
   "source": [
    "b=\"     Hello World\"\n",
    "print(b.strip())"
   ]
  },
  {
   "cell_type": "code",
   "execution_count": 12,
   "id": "1afdaf96",
   "metadata": {},
   "outputs": [
    {
     "name": "stdout",
     "output_type": "stream",
     "text": [
      "Jello World\n"
     ]
    }
   ],
   "source": [
    "print(a.replace(\"H\",\"J\"))"
   ]
  },
  {
   "cell_type": "code",
   "execution_count": 13,
   "id": "ecc48d47",
   "metadata": {},
   "outputs": [
    {
     "name": "stdout",
     "output_type": "stream",
     "text": [
      "['Hello', 'World']\n"
     ]
    }
   ],
   "source": [
    "print(a.split(' '))"
   ]
  },
  {
   "cell_type": "code",
   "execution_count": 14,
   "id": "fc25efc2",
   "metadata": {},
   "outputs": [
    {
     "data": {
      "text/plain": [
       "'d'"
      ]
     },
     "execution_count": 14,
     "metadata": {},
     "output_type": "execute_result"
    }
   ],
   "source": [
    "a[-1]"
   ]
  },
  {
   "cell_type": "code",
   "execution_count": 15,
   "id": "d55fb806",
   "metadata": {},
   "outputs": [
    {
     "data": {
      "text/plain": [
       "'dlroW olleH'"
      ]
     },
     "execution_count": 15,
     "metadata": {},
     "output_type": "execute_result"
    }
   ],
   "source": [
    "a[::-1]"
   ]
  },
  {
   "cell_type": "markdown",
   "id": "9c6ec131",
   "metadata": {},
   "source": [
    "### Problems"
   ]
  },
  {
   "cell_type": "code",
   "execution_count": 16,
   "id": "5382ed77",
   "metadata": {},
   "outputs": [
    {
     "name": "stdout",
     "output_type": "stream",
     "text": [
      "enter a radius3\n",
      "28.26\n"
     ]
    }
   ],
   "source": [
    "## write a python programm to calculate the area of the circle?\n",
    "\n",
    "r=int(input(\"enter a radius\"))\n",
    "area=3.14*(r**2)\n",
    "print(area)"
   ]
  },
  {
   "cell_type": "code",
   "execution_count": 17,
   "id": "569dedd4",
   "metadata": {},
   "outputs": [
    {
     "name": "stdout",
     "output_type": "stream",
     "text": [
      "enter a radius5\n",
      "78.5\n"
     ]
    }
   ],
   "source": [
    "r=int(input(\"enter a radius\"))\n",
    "area=3.14*(r**2)\n",
    "print(area)"
   ]
  },
  {
   "cell_type": "code",
   "execution_count": 18,
   "id": "1b95c854",
   "metadata": {},
   "outputs": [
    {
     "name": "stdout",
     "output_type": "stream",
     "text": [
      "enter a radius7\n",
      "153.86\n"
     ]
    }
   ],
   "source": [
    "r=int(input(\"enter a radius\"))\n",
    "area=3.14*(r**2)\n",
    "print(area)"
   ]
  },
  {
   "cell_type": "code",
   "execution_count": 19,
   "id": "bd7a0303",
   "metadata": {},
   "outputs": [
    {
     "name": "stdout",
     "output_type": "stream",
     "text": [
      "Area= 12.56\n"
     ]
    }
   ],
   "source": [
    "r=2\n",
    "area=3.14*2*2\n",
    "print(\"Area=\",area)"
   ]
  },
  {
   "cell_type": "code",
   "execution_count": 20,
   "id": "5f80f0ad",
   "metadata": {},
   "outputs": [
    {
     "name": "stdout",
     "output_type": "stream",
     "text": [
      "volume= 904.3199999999999\n"
     ]
    }
   ],
   "source": [
    "## write a python programm to get the volume of sphere with radius 6?\n",
    "\n",
    "r=6\n",
    "vol=(4/3)*3.14*(r**3)\n",
    "print(\"volume=\",vol)"
   ]
  },
  {
   "cell_type": "code",
   "execution_count": 21,
   "id": "19346905",
   "metadata": {},
   "outputs": [
    {
     "name": "stdout",
     "output_type": "stream",
     "text": [
      "George Aiswarya\n"
     ]
    }
   ],
   "source": [
    "## write a python programm that accept the users 1st and last name and print them in reverse order with a space b/w them?\n",
    "\n",
    "fname=\"Aiswarya\"\n",
    "sname=\"George\"\n",
    "print(sname,fname)"
   ]
  },
  {
   "cell_type": "code",
   "execution_count": 22,
   "id": "58213eb5",
   "metadata": {},
   "outputs": [
    {
     "name": "stdout",
     "output_type": "stream",
     "text": [
      "enter first name:Aiswarya\n",
      "enter a second name:George\n",
      "ayrawsiA egroeG\n"
     ]
    }
   ],
   "source": [
    "fnme=input(\"enter first name:\")\n",
    "snme=input(\"enter a second name:\")\n",
    "print(fnme[::-1],snme[::-1])"
   ]
  },
  {
   "cell_type": "code",
   "execution_count": 23,
   "id": "f137db53",
   "metadata": {},
   "outputs": [
    {
     "data": {
      "text/plain": [
       "'aukellylt'"
      ]
     },
     "execution_count": 23,
     "metadata": {},
     "output_type": "execute_result"
    }
   ],
   "source": [
    "## append a new string in the middle of a given string \n",
    "\n",
    "s1=\"ault\"\n",
    "s2=\"kelly\"\n",
    "s3=s1[0]+s1[1]+s2+s1[2]+s1[3]\n",
    "s3"
   ]
  },
  {
   "cell_type": "code",
   "execution_count": 24,
   "id": "6626ceec",
   "metadata": {},
   "outputs": [
    {
     "data": {
      "text/plain": [
       "'aukellylt'"
      ]
     },
     "execution_count": 24,
     "metadata": {},
     "output_type": "execute_result"
    }
   ],
   "source": [
    "s1=\"ault\"\n",
    "s2=\"kelly\"\n",
    "length= len(s1)\n",
    "leng=len(s1)//2\n",
    "s3=s1[:leng]+s2+s1[leng:]\n",
    "s3"
   ]
  },
  {
   "cell_type": "code",
   "execution_count": 25,
   "id": "e7b03134",
   "metadata": {},
   "outputs": [
    {
     "data": {
      "text/plain": [
       "'AJRPAN'"
      ]
     },
     "execution_count": 25,
     "metadata": {},
     "output_type": "execute_result"
    }
   ],
   "source": [
    "## creat a new string made of 1st, middle and last characters of each input string\n",
    "\n",
    "s1=\"AMERICA\"\n",
    "s2=\"JAPAN\"\n",
    "s3=s1[0]+s2[0]+s1[3]+s2[2]+s1[6]+s2[4]\n",
    "s3"
   ]
  },
  {
   "cell_type": "code",
   "execution_count": 26,
   "id": "e37b4cf2",
   "metadata": {},
   "outputs": [
    {
     "data": {
      "text/plain": [
       "'AJRPAN'"
      ]
     },
     "execution_count": 26,
     "metadata": {},
     "output_type": "execute_result"
    }
   ],
   "source": [
    "s1=\"AMERICA\"\n",
    "s2=\"JAPAN\"\n",
    "s3=s1[0]+s2[0]+s1[3]+s2[2]+s1[-1]+s2[-1]\n",
    "s3"
   ]
  },
  {
   "cell_type": "code",
   "execution_count": 27,
   "id": "bca57603",
   "metadata": {},
   "outputs": [
    {
     "data": {
      "text/plain": [
       "'AJRPAN'"
      ]
     },
     "execution_count": 27,
     "metadata": {},
     "output_type": "execute_result"
    }
   ],
   "source": [
    "s1=\"AMERICA\"\n",
    "s2=\"JAPAN\"\n",
    "mid1=len(s1)//2\n",
    "mid2=len(s2)//2\n",
    "s3=s1[0]+s2[0]+s1[mid1]+s2[mid2]+s1[-1]+s2[-1]\n",
    "s3"
   ]
  },
  {
   "cell_type": "code",
   "execution_count": null,
   "id": "ea3c16b1",
   "metadata": {},
   "outputs": [],
   "source": []
  }
 ],
 "metadata": {
  "kernelspec": {
   "display_name": "Python 3 (ipykernel)",
   "language": "python",
   "name": "python3"
  },
  "language_info": {
   "codemirror_mode": {
    "name": "ipython",
    "version": 3
   },
   "file_extension": ".py",
   "mimetype": "text/x-python",
   "name": "python",
   "nbconvert_exporter": "python",
   "pygments_lexer": "ipython3",
   "version": "3.9.13"
  }
 },
 "nbformat": 4,
 "nbformat_minor": 5
}
