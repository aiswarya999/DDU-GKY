{
 "cells": [
  {
   "cell_type": "markdown",
   "id": "8388d053",
   "metadata": {},
   "source": [
    "#### 1. Write a Python program to count the number of characters (character frequency) in a string"
   ]
  },
  {
   "cell_type": "code",
   "execution_count": 1,
   "id": "857affcd",
   "metadata": {},
   "outputs": [
    {
     "name": "stdout",
     "output_type": "stream",
     "text": [
      "{'g': 2, 'o': 3, 'l': 1, 'e': 1, '.': 1, 'c': 1, 'm': 1}\n"
     ]
    }
   ],
   "source": [
    "##INPUT :'google.com'\n",
    "##OUTPUT :{'g': 2, 'o': 3, 'l': 1, 'e': 1, '.': 1, 'c': 1, 'm': 1}\n",
    "\n",
    "a=\"google.com\"\n",
    "b={}\n",
    "\n",
    "for i in a:\n",
    "    if i in b:\n",
    "        b[i] +=1\n",
    "    else:\n",
    "        b[i] = 1\n",
    "print(b)        "
   ]
  },
  {
   "cell_type": "code",
   "execution_count": 40,
   "id": "b4d6cbf8",
   "metadata": {},
   "outputs": [
    {
     "name": "stdout",
     "output_type": "stream",
     "text": [
      "{'g': 2, 'o': 3, 'l': 1, 'e': 1, '.': 1, 'c': 1, 'm': 1}\n"
     ]
    }
   ],
   "source": [
    "a='google.com'\n",
    "b={}\n",
    "for i in a:\n",
    "    b[i]=a.count(i)\n",
    "print(b)    "
   ]
  },
  {
   "cell_type": "markdown",
   "id": "7f51ce60",
   "metadata": {},
   "source": [
    "#### 2. Write a Python program to get a string made of the first 2 and last 2 characters of a given string. If the string length is less than 2, return the empty string instead."
   ]
  },
  {
   "cell_type": "code",
   "execution_count": 2,
   "id": "6cab9d87",
   "metadata": {},
   "outputs": [
    {
     "name": "stdout",
     "output_type": "stream",
     "text": [
      "falt\n"
     ]
    }
   ],
   "source": [
    "## Sample String   :   'w3resource'\n",
    "## Expected Result :   'w3ce'\n",
    "## Sample String   :   'w3'\n",
    "## Expected Result :   'w3w3'\n",
    "## Sample String   :   ' w'\n",
    "## Expected Result :   Empty String\n",
    "\n",
    "x=\"fault\"\n",
    "if len(x)>2:\n",
    "    print(x[:2]+x[-2:])\n",
    "else:\n",
    "    print()"
   ]
  },
  {
   "cell_type": "code",
   "execution_count": 3,
   "id": "463bc980",
   "metadata": {},
   "outputs": [
    {
     "name": "stdout",
     "output_type": "stream",
     "text": [
      "\n"
     ]
    }
   ],
   "source": [
    "x=\"f\"\n",
    "if len(x)>2:\n",
    "    print(x[:2]+x[-2:])\n",
    "else:\n",
    "    print('')"
   ]
  },
  {
   "cell_type": "markdown",
   "id": "3fa087c0",
   "metadata": {},
   "source": [
    "#### 3.Write a Python program to get a string from a given string where all occurrences of its first char have been changed to '$', except the first char itself.\n"
   ]
  },
  {
   "cell_type": "code",
   "execution_count": 4,
   "id": "637e6f5c",
   "metadata": {},
   "outputs": [
    {
     "name": "stdout",
     "output_type": "stream",
     "text": [
      "enter a word: aiswarya\n",
      "aisw$ry$\n"
     ]
    }
   ],
   "source": [
    "## Sample String   : 'restart'\n",
    "## Expected Result : 'resta$t'\n",
    "\n",
    "a=input(\"enter a word: \")\n",
    "char = a[0]\n",
    "a = a.replace(char,'$')\n",
    "a = char + a[1:]\n",
    "print(a)\n"
   ]
  },
  {
   "cell_type": "markdown",
   "id": "09cd4812",
   "metadata": {},
   "source": [
    "#### 4.Write a Python program to get a single string from two given strings, separated by a space and swap the first two characters of each string.\n"
   ]
  },
  {
   "cell_type": "code",
   "execution_count": 5,
   "id": "78ef62d2",
   "metadata": {},
   "outputs": [
    {
     "name": "stdout",
     "output_type": "stream",
     "text": [
      "xyc  abz\n"
     ]
    }
   ],
   "source": [
    "## Sample String : 'abc', 'xyz'\n",
    "## Expected Result : 'xyc abz'\n",
    "\n",
    "d='abc'\n",
    "f='xyz'\n",
    "new_d=f[:2]+d[2:]\n",
    "new_f=d[:2]+f[2:]\n",
    "print(new_d+'  '+new_f)"
   ]
  },
  {
   "cell_type": "markdown",
   "id": "1cf2fe65",
   "metadata": {},
   "source": [
    "#### 5.Write a Python program to add 'ing' at the end of a given string (length should be at least 3). If the given string already ends with 'ing', add 'ly' instead. If the string length of the given string is less than 3, leave it unchanged.\n"
   ]
  },
  {
   "cell_type": "code",
   "execution_count": 6,
   "id": "49c19ba1",
   "metadata": {},
   "outputs": [
    {
     "name": "stdout",
     "output_type": "stream",
     "text": [
      "enter a word:\n",
      "\n"
     ]
    }
   ],
   "source": [
    "a=input('enter a word:')\n",
    "if len(a)>=3:\n",
    "    if a[-3:]=='ing':\n",
    "        print(a[:-3]+'ly')\n",
    "    else:\n",
    "        print(a+'ing')\n",
    "else:\n",
    "        print(a)\n",
    "    \n",
    "    \n",
    "    "
   ]
  },
  {
   "cell_type": "markdown",
   "id": "13979cb0",
   "metadata": {},
   "source": [
    "#### 6.Write a Python program to find the first appearance of the substrings 'not' and 'poor' in a given string. If 'not' follows 'poor', replace the whole 'not'...'poor' substring with 'good'. Return the resulting string.\n"
   ]
  },
  {
   "cell_type": "code",
   "execution_count": 7,
   "id": "746355fd",
   "metadata": {},
   "outputs": [
    {
     "name": "stdout",
     "output_type": "stream",
     "text": [
      "14 23\n",
      "The lyrics is good!The lyrics is poor!\n"
     ]
    }
   ],
   "source": [
    "## Sample String : 'The lyrics is not that poor!'\n",
    "## 'The lyrics is poor!'\n",
    "## Expected Result : 'The lyrics is good!'\n",
    "## 'The lyrics is poor!'\n",
    "\n",
    "a='The lyrics is not that poor!''The lyrics is poor!'\n",
    "b=a.find('not')\n",
    "c=a.find('poor')\n",
    "print(b,c)\n",
    "if c>b:\n",
    "    s=a.replace(a[b:c+4],'good')\n",
    "    print(s)\n",
    "else:\n",
    "    print(a)"
   ]
  },
  {
   "cell_type": "code",
   "execution_count": 8,
   "id": "3bd50bef",
   "metadata": {},
   "outputs": [
    {
     "name": "stdout",
     "output_type": "stream",
     "text": [
      "-1 15\n",
      "good'goodTgoodhgoodegood goodlgoodygoodrgoodigoodcgoodsgood goodigoodsgood goodpgoodogoodogoodrgood'good\n"
     ]
    }
   ],
   "source": [
    "a=\"'The lyrics is poor'\"\n",
    "b=a.find('not')\n",
    "c=a.find('poor')\n",
    "print(b,c)\n",
    "if c>b:\n",
    "    s=a.replace(a[b:c+4],'good')\n",
    "    print(s)\n",
    "else:\n",
    "    print(a)"
   ]
  },
  {
   "cell_type": "markdown",
   "id": "e98abc6e",
   "metadata": {},
   "source": [
    "#### 7.Write a Python program to change a given string to a newly string where the first and last chars have been exchanged."
   ]
  },
  {
   "cell_type": "code",
   "execution_count": 13,
   "id": "57b88f88",
   "metadata": {},
   "outputs": [
    {
     "name": "stdout",
     "output_type": "stream",
     "text": [
      "enter a string: reshma\n",
      "aeshmr\n"
     ]
    }
   ],
   "source": [
    "a=input(\"enter a string: \")\n",
    "x=a[0]\n",
    "y=a[-1]\n",
    "print(y+a[1:len(a)-1]+x)\n"
   ]
  },
  {
   "cell_type": "markdown",
   "id": "bf88bd48",
   "metadata": {},
   "source": [
    "#### 8.Write a Python program to remove characters that have odd index values in a given string.\n"
   ]
  },
  {
   "cell_type": "code",
   "execution_count": 27,
   "id": "0037ac77",
   "metadata": {},
   "outputs": [
    {
     "name": "stdout",
     "output_type": "stream",
     "text": [
      "enter a word: aiswarya\n",
      "final string:  asay\n"
     ]
    }
   ],
   "source": [
    "a=input(\"enter a word: \")\n",
    "b=\"\"\n",
    "for i in range(len(a)):\n",
    "    if i%2 == 0:\n",
    "        b=b+a[i]\n",
    "print(\"final string: \",b)"
   ]
  },
  {
   "cell_type": "markdown",
   "id": "b1882858",
   "metadata": {},
   "source": [
    "#### 9.Write a Python script that takes input from the user and displays that input back in upper and lower cases."
   ]
  },
  {
   "cell_type": "code",
   "execution_count": 31,
   "id": "23d474a1",
   "metadata": {},
   "outputs": [
    {
     "name": "stdout",
     "output_type": "stream",
     "text": [
      "enter a word: AijkhgDFERTEbff\n",
      "AIJKHGDFERTEBFF\n",
      "aijkhgdfertebff\n"
     ]
    }
   ],
   "source": [
    "a=input('enter a word: ')\n",
    "print(a.upper())\n",
    "print(a.lower())"
   ]
  },
  {
   "cell_type": "markdown",
   "id": "99848d9a",
   "metadata": {},
   "source": [
    "#### 10.Write a Python function to get a string made of 4 copies of the last two characters of a specified string (length must be at least 2)."
   ]
  },
  {
   "cell_type": "code",
   "execution_count": 32,
   "id": "9ebe2fe6",
   "metadata": {},
   "outputs": [
    {
     "name": "stdout",
     "output_type": "stream",
     "text": [
      "onononon\n",
      "eseseses\n"
     ]
    }
   ],
   "source": [
    "## Sample function and result :\n",
    "## insert_end('Python') -> onononon\n",
    "## insert_end('Exercises') -> eseseses\n",
    "\n",
    "a='Python'\n",
    "b='Exercises'\n",
    "i=a[-2:]\n",
    "j=b[-2:]\n",
    "print(i+i+i+i)\n",
    "print(j+j+j+j)"
   ]
  },
  {
   "cell_type": "code",
   "execution_count": 34,
   "id": "a5d38030",
   "metadata": {},
   "outputs": [
    {
     "name": "stdout",
     "output_type": "stream",
     "text": [
      "enter a word:Exercises\n",
      "eseseses"
     ]
    }
   ],
   "source": [
    "x=input(\"enter a word:\")\n",
    "if len(x)>=2:\n",
    "    for i in range(4):\n",
    "        print(x[-2:],end=\"\")\n",
    "else:\n",
    "    pass"
   ]
  },
  {
   "cell_type": "markdown",
   "id": "23fa8201",
   "metadata": {},
   "source": [
    "#### 11.Write a Python function to get a string made of the first three characters of a specified string. If the length of the string is less than 3, return the original string."
   ]
  },
  {
   "cell_type": "code",
   "execution_count": 39,
   "id": "945c815a",
   "metadata": {},
   "outputs": [
    {
     "name": "stdout",
     "output_type": "stream",
     "text": [
      "enter a string:pyt\n",
      "pyt\n"
     ]
    }
   ],
   "source": [
    "## Sample function and result :\n",
    "## first_three('ipy') -> ipy\n",
    "## first_three('python') -> pyt\n",
    "\n",
    "x=input('enter a string:')\n",
    "if len(x)>=3:\n",
    "    print(x[:3])\n",
    "else:\n",
    "    print(x)\n"
   ]
  },
  {
   "cell_type": "code",
   "execution_count": null,
   "id": "86b85c0d",
   "metadata": {},
   "outputs": [],
   "source": []
  }
 ],
 "metadata": {
  "kernelspec": {
   "display_name": "Python 3 (ipykernel)",
   "language": "python",
   "name": "python3"
  },
  "language_info": {
   "codemirror_mode": {
    "name": "ipython",
    "version": 3
   },
   "file_extension": ".py",
   "mimetype": "text/x-python",
   "name": "python",
   "nbconvert_exporter": "python",
   "pygments_lexer": "ipython3",
   "version": "3.9.13"
  }
 },
 "nbformat": 4,
 "nbformat_minor": 5
}
