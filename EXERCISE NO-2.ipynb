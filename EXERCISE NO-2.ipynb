{
 "cells": [
  {
   "cell_type": "markdown",
   "id": "8388d053",
   "metadata": {},
   "source": [
    "#### 1. Write a Python program to count the number of characters (character frequency) in a string"
   ]
  },
  {
   "cell_type": "code",
   "execution_count": 1,
   "id": "857affcd",
   "metadata": {},
   "outputs": [
    {
     "name": "stdout",
     "output_type": "stream",
     "text": [
      "{'g': 2, 'o': 3, 'l': 1, 'e': 1, '.': 1, 'c': 1, 'm': 1}\n"
     ]
    }
   ],
   "source": [
    "##INPUT :'google.com'\n",
    "##OUTPUT :{'g': 2, 'o': 3, 'l': 1, 'e': 1, '.': 1, 'c': 1, 'm': 1}\n",
    "\n",
    "a=\"google.com\"\n",
    "b={}\n",
    "\n",
    "for i in a:\n",
    "    if i in b:\n",
    "        b[i] +=1\n",
    "    else:\n",
    "        b[i] = 1\n",
    "print(b)        "
   ]
  },
  {
   "cell_type": "markdown",
   "id": "7f51ce60",
   "metadata": {},
   "source": [
    "#### 2. Write a Python program to get a string made of the first 2 and last 2 characters of a given string. If the string length is less than 2, return the empty string instead."
   ]
  },
  {
   "cell_type": "code",
   "execution_count": 2,
   "id": "6cab9d87",
   "metadata": {},
   "outputs": [
    {
     "name": "stdout",
     "output_type": "stream",
     "text": [
      "falt\n"
     ]
    }
   ],
   "source": [
    "## Sample String   :   'w3resource'\n",
    "## Expected Result :   'w3ce'\n",
    "## Sample String   :   'w3'\n",
    "## Expected Result :   'w3w3'\n",
    "## Sample String   :   ' w'\n",
    "## Expected Result :   Empty String\n",
    "\n",
    "x=\"fault\"\n",
    "if len(x)>2:\n",
    "    print(x[:2]+x[-2:])\n",
    "else:\n",
    "    print()"
   ]
  },
  {
   "cell_type": "code",
   "execution_count": 3,
   "id": "463bc980",
   "metadata": {},
   "outputs": [
    {
     "name": "stdout",
     "output_type": "stream",
     "text": [
      "\n"
     ]
    }
   ],
   "source": [
    "x=\"f\"\n",
    "if len(x)>2:\n",
    "    print(x[:2]+x[-2:])\n",
    "else:\n",
    "    print('')"
   ]
  },
  {
   "cell_type": "markdown",
   "id": "3fa087c0",
   "metadata": {},
   "source": [
    "#### 3.Write a Python program to get a string from a given string where all occurrences of its first char have been changed to '$', except the first char itself.\n"
   ]
  },
  {
   "cell_type": "code",
   "execution_count": 4,
   "id": "637e6f5c",
   "metadata": {},
   "outputs": [
    {
     "name": "stdout",
     "output_type": "stream",
     "text": [
      "enter a word: aiswarya\n",
      "aisw$ry$\n"
     ]
    }
   ],
   "source": [
    "## Sample String   : 'restart'\n",
    "## Expected Result : 'resta$t'\n",
    "\n",
    "a=input(\"enter a word: \")\n",
    "char = a[0]\n",
    "a = a.replace(char,'$')\n",
    "a = char + a[1:]\n",
    "print(a)\n"
   ]
  },
  {
   "cell_type": "markdown",
   "id": "09cd4812",
   "metadata": {},
   "source": [
    "#### 4.Write a Python program to get a single string from two given strings, separated by a space and swap the first two characters of each string.\n"
   ]
  },
  {
   "cell_type": "code",
   "execution_count": 5,
   "id": "78ef62d2",
   "metadata": {},
   "outputs": [
    {
     "name": "stdout",
     "output_type": "stream",
     "text": [
      "xyc  abz\n"
     ]
    }
   ],
   "source": [
    "## Sample String : 'abc', 'xyz'\n",
    "## Expected Result : 'xyc abz'\n",
    "\n",
    "d='abc'\n",
    "f='xyz'\n",
    "new_d=f[:2]+d[2:]\n",
    "new_f=d[:2]+f[2:]\n",
    "print(new_d+'  '+new_f)"
   ]
  },
  {
   "cell_type": "markdown",
   "id": "1cf2fe65",
   "metadata": {},
   "source": [
    "#### 5.Write a Python program to add 'ing' at the end of a given string (length should be at least 3). If the given string already ends with 'ing', add 'ly' instead. If the string length of the given string is less than 3, leave it unchanged.\n"
   ]
  },
  {
   "cell_type": "code",
   "execution_count": 15,
   "id": "49c19ba1",
   "metadata": {},
   "outputs": [
    {
     "name": "stdout",
     "output_type": "stream",
     "text": [
      "enter a word:us\n",
      "us\n"
     ]
    }
   ],
   "source": [
    "a=input('enter a word:')\n",
    "if len(a)>=3:\n",
    "    if a[-3:]=='ing':\n",
    "        b= a.replace(a[-3:],'ly')\n",
    "        print(b)\n",
    "    else:\n",
    "        print(a+'ing')\n",
    "else:\n",
    "        print(a)\n",
    "    \n",
    "    \n",
    "    "
   ]
  },
  {
   "cell_type": "code",
   "execution_count": null,
   "id": "67bb26c0",
   "metadata": {},
   "outputs": [],
   "source": []
  },
  {
   "cell_type": "code",
   "execution_count": null,
   "id": "746355fd",
   "metadata": {},
   "outputs": [],
   "source": []
  }
 ],
 "metadata": {
  "kernelspec": {
   "display_name": "Python 3 (ipykernel)",
   "language": "python",
   "name": "python3"
  },
  "language_info": {
   "codemirror_mode": {
    "name": "ipython",
    "version": 3
   },
   "file_extension": ".py",
   "mimetype": "text/x-python",
   "name": "python",
   "nbconvert_exporter": "python",
   "pygments_lexer": "ipython3",
   "version": "3.9.13"
  }
 },
 "nbformat": 4,
 "nbformat_minor": 5
}
