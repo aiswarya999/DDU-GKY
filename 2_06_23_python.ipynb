{
 "cells": [
  {
   "cell_type": "markdown",
   "id": "9ec94119",
   "metadata": {},
   "source": [
    "#### FORMAT FUNCTION"
   ]
  },
  {
   "cell_type": "code",
   "execution_count": 1,
   "id": "c70939bc",
   "metadata": {},
   "outputs": [
    {
     "name": "stdout",
     "output_type": "stream",
     "text": [
      "My name is Aiswarya,age is24\n"
     ]
    }
   ],
   "source": [
    "name=\"Aiswarya\"\n",
    "age=24\n",
    "txt=\"My name is {},age is{}\"\n",
    "print(txt.format(name,age))"
   ]
  },
  {
   "cell_type": "code",
   "execution_count": 2,
   "id": "64d08c03",
   "metadata": {},
   "outputs": [
    {
     "name": "stdout",
     "output_type": "stream",
     "text": [
      "My name is 24,age isAiswarya\n"
     ]
    }
   ],
   "source": [
    "### indexing\n",
    "\n",
    "name=\"Aiswarya\"\n",
    "age=24\n",
    "txt=\"My name is {1},age is{0}\"\n",
    "print(txt.format(name,age))"
   ]
  },
  {
   "cell_type": "code",
   "execution_count": 3,
   "id": "3ef3aa3e",
   "metadata": {},
   "outputs": [
    {
     "name": "stdout",
     "output_type": "stream",
     "text": [
      "enter your nameAiswarya\n",
      "enter your age24\n",
      "My name is Aiswarya,age is 24\n"
     ]
    }
   ],
   "source": [
    "name=input(\"enter your name\")\n",
    "age=input(\"enter your age\")\n",
    "txt=\"My name is {},age is {}\"\n",
    "print(txt.format(name,age))"
   ]
  },
  {
   "cell_type": "markdown",
   "id": "4bf5eca3",
   "metadata": {},
   "source": [
    "### LIST"
   ]
  },
  {
   "cell_type": "code",
   "execution_count": 4,
   "id": "7f4e3cd2",
   "metadata": {},
   "outputs": [
    {
     "name": "stdout",
     "output_type": "stream",
     "text": [
      "['A', 'b', 'c']\n"
     ]
    }
   ],
   "source": [
    "list1=['a','b','c']\n",
    "list1[0]='A'\n",
    "print(list1)"
   ]
  },
  {
   "cell_type": "code",
   "execution_count": 5,
   "id": "ec97cc95",
   "metadata": {},
   "outputs": [
    {
     "name": "stdout",
     "output_type": "stream",
     "text": [
      "('A', 'B', 'C')\n"
     ]
    }
   ],
   "source": [
    "list1=['a','b','c']\n",
    "list1='A','B','C'\n",
    "print(list1)"
   ]
  },
  {
   "cell_type": "code",
   "execution_count": 6,
   "id": "bce50769",
   "metadata": {},
   "outputs": [
    {
     "name": "stdout",
     "output_type": "stream",
     "text": [
      "['a', 'b', 'c', 1, 2, 3]\n"
     ]
    }
   ],
   "source": [
    "#### to add items\n",
    "\n",
    "list1=['a','b','c']\n",
    "list2=[1,2,3]\n",
    "list3=list1+list2\n",
    "print(list3)"
   ]
  },
  {
   "cell_type": "code",
   "execution_count": 7,
   "id": "4b09291d",
   "metadata": {},
   "outputs": [
    {
     "name": "stdout",
     "output_type": "stream",
     "text": [
      "['A', 'B', 'C', 'D']\n"
     ]
    }
   ],
   "source": [
    "list1=['A','B','C']\n",
    "list1.append('D')\n",
    "print(list1)             #### the value will be added at the end"
   ]
  },
  {
   "cell_type": "code",
   "execution_count": 8,
   "id": "2a4e717c",
   "metadata": {},
   "outputs": [
    {
     "name": "stdout",
     "output_type": "stream",
     "text": [
      "['A', 'B', 'C', 'D', 1, 2, 3]\n"
     ]
    }
   ],
   "source": [
    "list1.extend(list2)\n",
    "print(list1)"
   ]
  },
  {
   "cell_type": "code",
   "execution_count": 9,
   "id": "21c37938",
   "metadata": {},
   "outputs": [
    {
     "name": "stdout",
     "output_type": "stream",
     "text": [
      "['A', 'B', 'C', 1, 2, 3]\n"
     ]
    }
   ],
   "source": [
    "## REMOVE\n",
    "\n",
    "list1.remove('D')\n",
    "print(list1)                        ####item"
   ]
  },
  {
   "cell_type": "code",
   "execution_count": 10,
   "id": "947e700b",
   "metadata": {},
   "outputs": [
    {
     "name": "stdout",
     "output_type": "stream",
     "text": [
      "['B', 'C', 1, 2, 3]\n"
     ]
    }
   ],
   "source": [
    "list1.pop(0)\n",
    "print(list1)                 ### indexing"
   ]
  },
  {
   "cell_type": "code",
   "execution_count": 11,
   "id": "006f355d",
   "metadata": {},
   "outputs": [
    {
     "name": "stdout",
     "output_type": "stream",
     "text": [
      "['B', 'C', 1, 2]\n"
     ]
    }
   ],
   "source": [
    "list1.pop()\n",
    "print(list1)                  ### last value will be deleted"
   ]
  },
  {
   "cell_type": "code",
   "execution_count": 12,
   "id": "43fde907",
   "metadata": {},
   "outputs": [
    {
     "name": "stdout",
     "output_type": "stream",
     "text": [
      "['C', 1, 2]\n"
     ]
    }
   ],
   "source": [
    "### deleting\n",
    "\n",
    "del list1[0]\n",
    "print(list1)"
   ]
  },
  {
   "cell_type": "code",
   "execution_count": 13,
   "id": "ca7c3ee4",
   "metadata": {},
   "outputs": [
    {
     "name": "stdout",
     "output_type": "stream",
     "text": [
      "['B', 'C', 1, 2]\n"
     ]
    }
   ],
   "source": [
    "### insert\n",
    "\n",
    "list1.insert(0,'B')\n",
    "print(list1)                  ### to add to a particular position"
   ]
  },
  {
   "cell_type": "code",
   "execution_count": 14,
   "id": "4d5551fb",
   "metadata": {},
   "outputs": [
    {
     "name": "stdout",
     "output_type": "stream",
     "text": [
      "[]\n"
     ]
    },
    {
     "ename": "NameError",
     "evalue": "name 'list1' is not defined",
     "output_type": "error",
     "traceback": [
      "\u001b[1;31m---------------------------------------------------------------------------\u001b[0m",
      "\u001b[1;31mNameError\u001b[0m                                 Traceback (most recent call last)",
      "\u001b[1;32m~\\AppData\\Local\\Temp\\ipykernel_10512\\1079658094.py\u001b[0m in \u001b[0;36m<module>\u001b[1;34m\u001b[0m\n\u001b[0;32m      7\u001b[0m \u001b[1;33m\u001b[0m\u001b[0m\n\u001b[0;32m      8\u001b[0m \u001b[1;32mdel\u001b[0m \u001b[1;33m(\u001b[0m\u001b[0mlist1\u001b[0m\u001b[1;33m)\u001b[0m\u001b[1;33m\u001b[0m\u001b[1;33m\u001b[0m\u001b[0m\n\u001b[1;32m----> 9\u001b[1;33m \u001b[0mprint\u001b[0m\u001b[1;33m(\u001b[0m\u001b[0mlist1\u001b[0m\u001b[1;33m)\u001b[0m\u001b[1;33m\u001b[0m\u001b[1;33m\u001b[0m\u001b[0m\n\u001b[0m",
      "\u001b[1;31mNameError\u001b[0m: name 'list1' is not defined"
     ]
    }
   ],
   "source": [
    "### clear    ### to make a list empty\n",
    "\n",
    "list1.clear()\n",
    "print(list1)\n",
    "\n",
    "##OR\n",
    "\n",
    "del (list1)\n",
    "print(list1)         #### COMPLETE DELETE"
   ]
  },
  {
   "cell_type": "markdown",
   "id": "377ee29a",
   "metadata": {},
   "source": [
    "### TUPLE"
   ]
  },
  {
   "cell_type": "code",
   "execution_count": 15,
   "id": "e273c927",
   "metadata": {},
   "outputs": [
    {
     "name": "stdout",
     "output_type": "stream",
     "text": [
      "['a', 'b', 'c']\n"
     ]
    }
   ],
   "source": [
    "### since tuple is unchangeable convert it to list and change it\n",
    "\n",
    "\n",
    "list1=list(('a','b','c'))\n",
    "print(list1)"
   ]
  },
  {
   "cell_type": "code",
   "execution_count": 16,
   "id": "5f2c15ca",
   "metadata": {},
   "outputs": [
    {
     "name": "stdout",
     "output_type": "stream",
     "text": [
      "<class 'list'>\n"
     ]
    }
   ],
   "source": [
    "print(type(list1))"
   ]
  },
  {
   "cell_type": "code",
   "execution_count": null,
   "id": "2cac44ec",
   "metadata": {},
   "outputs": [],
   "source": [
    "a=('a','b',1,2)\n",
    "print(a)\n",
    "print(type(a))"
   ]
  },
  {
   "cell_type": "code",
   "execution_count": 17,
   "id": "55ee460f",
   "metadata": {},
   "outputs": [
    {
     "name": "stdout",
     "output_type": "stream",
     "text": [
      "['a', 'b', 1, 2]\n"
     ]
    }
   ],
   "source": [
    "a=('a','b',1,2)\n",
    "c=list(a)\n",
    "print(c)"
   ]
  },
  {
   "cell_type": "code",
   "execution_count": 18,
   "id": "aa7928b8",
   "metadata": {},
   "outputs": [
    {
     "name": "stdout",
     "output_type": "stream",
     "text": [
      "['A', 'b', 1, 2]\n"
     ]
    }
   ],
   "source": [
    "c[0]='A'\n",
    "print(c)"
   ]
  },
  {
   "cell_type": "code",
   "execution_count": 19,
   "id": "3ac749c0",
   "metadata": {},
   "outputs": [
    {
     "name": "stdout",
     "output_type": "stream",
     "text": [
      "('A', 'b', 1, 2)\n"
     ]
    }
   ],
   "source": [
    "a=tuple(c)\n",
    "print(a)"
   ]
  },
  {
   "cell_type": "code",
   "execution_count": 20,
   "id": "a10f368a",
   "metadata": {},
   "outputs": [
    {
     "name": "stdout",
     "output_type": "stream",
     "text": [
      "<class 'tuple'>\n"
     ]
    }
   ],
   "source": [
    "print(type(a))"
   ]
  }
 ],
 "metadata": {
  "kernelspec": {
   "display_name": "Python 3 (ipykernel)",
   "language": "python",
   "name": "python3"
  },
  "language_info": {
   "codemirror_mode": {
    "name": "ipython",
    "version": 3
   },
   "file_extension": ".py",
   "mimetype": "text/x-python",
   "name": "python",
   "nbconvert_exporter": "python",
   "pygments_lexer": "ipython3",
   "version": "3.9.13"
  }
 },
 "nbformat": 4,
 "nbformat_minor": 5
}
