{
 "cells": [
  {
   "cell_type": "markdown",
   "id": "324c1ea6",
   "metadata": {},
   "source": [
    "#### 1.Write a Python function to sum all the numbers in a list.\n",
    "Sample List : (8, 2, 3, 0, 7)\n",
    "Expected Output : 20"
   ]
  },
  {
   "cell_type": "code",
   "execution_count": 1,
   "id": "181dafd3",
   "metadata": {},
   "outputs": [
    {
     "name": "stdout",
     "output_type": "stream",
     "text": [
      "20\n"
     ]
    }
   ],
   "source": [
    "x=[8, 2, 3, 0, 7]\n",
    "\n",
    "def sum_list(x):\n",
    "    sum=0\n",
    "    for i in x:\n",
    "        sum=sum+i\n",
    "    return sum\n",
    "print(sum_list(x))"
   ]
  },
  {
   "cell_type": "markdown",
   "id": "bcf421d1",
   "metadata": {},
   "source": [
    "#### 2.Write a Python function to multiply all the numbers in a list.\n",
    "Sample List : (8, 2, 3, -1, 7)\n",
    "Expected Output : -336"
   ]
  },
  {
   "cell_type": "code",
   "execution_count": 2,
   "id": "02c4f08e",
   "metadata": {},
   "outputs": [
    {
     "name": "stdout",
     "output_type": "stream",
     "text": [
      "-336\n"
     ]
    }
   ],
   "source": [
    "x=[8, 2, 3, -1, 7]\n",
    "\n",
    "def mul_list(x):\n",
    "    mul=1\n",
    "    for i in x:\n",
    "        mul=mul*i\n",
    "    return mul\n",
    "print(mul_list(x))"
   ]
  },
  {
   "cell_type": "markdown",
   "id": "1c3ffe98",
   "metadata": {},
   "source": [
    "#### 3.Write a Python function to calculate the factorial of a number (a non-negative integer). The function accepts the number as an argument."
   ]
  },
  {
   "cell_type": "code",
   "execution_count": 3,
   "id": "a6cd3e72",
   "metadata": {},
   "outputs": [
    {
     "name": "stdout",
     "output_type": "stream",
     "text": [
      "enter a number:5\n",
      "120\n"
     ]
    }
   ],
   "source": [
    "n=int(input(\"enter a number:\"))\n",
    "\n",
    "def fact_(n):\n",
    "    fact=1\n",
    "    for i in range(1,n+1):\n",
    "        fact *= i\n",
    "    return fact\n",
    "print(fact_(n))"
   ]
  },
  {
   "cell_type": "markdown",
   "id": "e869dcc0",
   "metadata": {},
   "source": [
    "#### 4.Write a Python function to check whether a number falls within a given range."
   ]
  },
  {
   "cell_type": "code",
   "execution_count": 4,
   "id": "30c1a946",
   "metadata": {},
   "outputs": [
    {
     "name": "stdout",
     "output_type": "stream",
     "text": [
      "enter a number:6\n",
      "6 it is in range\n"
     ]
    }
   ],
   "source": [
    "range=10\n",
    "n=int(input(\"enter a number:\"))\n",
    "def check(n):\n",
    "    if n<=range:\n",
    "        print(n,\"it is in range\")\n",
    "    else:\n",
    "        print(n,\" it is not in range\")\n",
    "check(n)  "
   ]
  },
  {
   "cell_type": "markdown",
   "id": "bd0cb1b5",
   "metadata": {},
   "source": [
    "#### 5.Write a Python function that accepts a string and counts the number of upper and lower case letters.\n",
    "##Sample String : 'The quick Brow Fox'\n",
    "##Expected Output :\n",
    "##No. of Upper case characters : 3\n",
    "##No. of Lower case Characters : 12\n"
   ]
  },
  {
   "cell_type": "code",
   "execution_count": 5,
   "id": "b71f2685",
   "metadata": {},
   "outputs": [
    {
     "name": "stdout",
     "output_type": "stream",
     "text": [
      "uppercase letters in no:  3\n",
      "lowerrcase letters in no:  12\n"
     ]
    }
   ],
   "source": [
    "a=\"The quick Brow Fox\"\n",
    "\n",
    "def counts(a): \n",
    "        c=0\n",
    "        b=0\n",
    "        for i in a:\n",
    "            if i.isupper():\n",
    "                c+=1\n",
    "            elif i.islower():\n",
    "                b+=1\n",
    "            else:\n",
    "                pass\n",
    "        print(\"uppercase letters in no: \",c)\n",
    "        print(\"lowerrcase letters in no: \",b)\n",
    "                \n",
    "        \n",
    "counts(a)        "
   ]
  },
  {
   "cell_type": "code",
   "execution_count": 6,
   "id": "2e763f54",
   "metadata": {},
   "outputs": [],
   "source": [
    "# a=\"The quick Brow Fox\"\n",
    "# def counts(a): \n",
    "#         c=0\n",
    "#         b=0\n",
    "#         print(len(a))\n",
    "#         for i in range(len(a)):\n",
    "#                 if a[i].isalpha():\n",
    "#                     if a[i]==a[i].upper():\n",
    "#                         c+=1\n",
    "#                     elif a[i]==a[i].lower():\n",
    "#                         b+=1\n",
    "#         print(c)\n",
    "#         print(b)\n",
    "        \n",
    "# counts(a)   "
   ]
  },
  {
   "cell_type": "markdown",
   "id": "911d5e16",
   "metadata": {},
   "source": [
    "#### 6.Write a Python function that takes a list and returns a new list with distinct elements from the first list.\n",
    "Sample List : [1,2,3,3,3,3,4,5]\n",
    "Unique List : [1, 2, 3, 4, 5]\n"
   ]
  },
  {
   "cell_type": "code",
   "execution_count": 7,
   "id": "38cecfb9",
   "metadata": {},
   "outputs": [
    {
     "name": "stdout",
     "output_type": "stream",
     "text": [
      "[1, 2, 3, 4, 5]\n"
     ]
    }
   ],
   "source": [
    "a=[1,2,3,3,3,3,4,5]\n",
    "b=[]\n",
    "def duplicate(a):\n",
    "    for i in a:\n",
    "        if i not in b:\n",
    "            b.append(i)\n",
    "    print(b)\n",
    "duplicate(a)        "
   ]
  },
  {
   "cell_type": "markdown",
   "id": "9b344e48",
   "metadata": {},
   "source": [
    "#### 7.Write a Python function that takes a number as a parameter and checks whether the number is prime or not."
   ]
  },
  {
   "cell_type": "code",
   "execution_count": 8,
   "id": "213b3598",
   "metadata": {},
   "outputs": [],
   "source": [
    "# a=7\n",
    "# def prime(a):\n",
    "#     flag=0\n",
    "#     for i in range(2,a):\n",
    "#         if a%i ==0:\n",
    "#             flag=1\n",
    "#     if flag==1:\n",
    "#         print(\"not prime\")\n",
    "#     else:\n",
    "#         print('prime')\n",
    "# prime(a)            "
   ]
  },
  {
   "cell_type": "markdown",
   "id": "ce6293c4",
   "metadata": {},
   "source": [
    "#### 8.Write a Python function to check whether a number is \"Perfect\" or not."
   ]
  },
  {
   "cell_type": "code",
   "execution_count": 9,
   "id": "b5b9cf99",
   "metadata": {},
   "outputs": [],
   "source": [
    "# a=int(input('enter a number:'))\n",
    "# def perfect(a):\n",
    "#     sum=0\n",
    "#     for i in range(1,a):\n",
    "#         if a%i ==0:\n",
    "#             sum += i\n",
    "#     if a == sum:\n",
    "#         print(\"it is perfect\")\n",
    "#     else:\n",
    "#         print('it is not perfect')\n",
    "# perfect(a)            "
   ]
  },
  {
   "cell_type": "markdown",
   "id": "4a2d792c",
   "metadata": {},
   "source": [
    "###### 9.Write a Python function that checks whether a passed string is a palindrome or not."
   ]
  },
  {
   "cell_type": "code",
   "execution_count": 10,
   "id": "e8cffc56",
   "metadata": {},
   "outputs": [
    {
     "name": "stdout",
     "output_type": "stream",
     "text": [
      " its palindrome\n"
     ]
    }
   ],
   "source": [
    "a=\"madam\"\n",
    "b=a[::-1]\n",
    "def palindrome(a):\n",
    "    flag=0\n",
    "    for i in a:\n",
    "        if a == b:\n",
    "            flag = 1\n",
    "    if flag == 1:        \n",
    "        print(\" its palindrome\")\n",
    "    else:\n",
    "        print(\"its not palindrome\")\n",
    "palindrome(a)            "
   ]
  },
  {
   "cell_type": "markdown",
   "id": "04613fb6",
   "metadata": {},
   "source": [
    "#### 10.write a Python function to check whether a string is a pangram or not.\n",
    "Note : Pangrams are words or sentences containing every letter of the alphabet at least once.\n",
    "For example : \"The quick brown fox jumps over the lazy dog\""
   ]
  },
  {
   "cell_type": "code",
   "execution_count": 18,
   "id": "368ae0c5",
   "metadata": {},
   "outputs": [
    {
     "name": "stdout",
     "output_type": "stream",
     "text": [
      "its pangram\n"
     ]
    }
   ],
   "source": [
    "a=['a','b','c','d','e','f','g','h','i','j','k','l','m','n','o','p','q','r','s','t','u','v','w','x','y','z']\n",
    "b=\"the quick brown fox jumps over the lazy dog\"\n",
    "def pangram(b):\n",
    "    count=0\n",
    "    for i in a:\n",
    "        if i in b:\n",
    "            count += 1\n",
    "    if count>=len(a):\n",
    "        print('its pangram')\n",
    "    else:\n",
    "        print(' not pangram')\n",
    "pangram(b)            "
   ]
  },
  {
   "cell_type": "markdown",
   "id": "e56a2180",
   "metadata": {},
   "source": [
    "#### 11.Write a Python program that accepts a hyphen-separated sequence of words as input and prints the words in a hyphen-separated sequence after sorting them alphabetically.\n",
    "Sample Items : green-red-yellow-black-white\n",
    "Expected Result : black-green-red-white-yellow"
   ]
  },
  {
   "cell_type": "code",
   "execution_count": 21,
   "id": "1683839a",
   "metadata": {},
   "outputs": [
    {
     "name": "stdout",
     "output_type": "stream",
     "text": [
      "black-green-red-white-yellow\n"
     ]
    }
   ],
   "source": [
    "a=(\"green-red-yellow-black-white\")\n",
    "b=a.split('-')\n",
    "b.sort()\n",
    "print('-'.join(b))"
   ]
  },
  {
   "cell_type": "code",
   "execution_count": null,
   "id": "ae01da68",
   "metadata": {},
   "outputs": [],
   "source": []
  }
 ],
 "metadata": {
  "kernelspec": {
   "display_name": "Python 3 (ipykernel)",
   "language": "python",
   "name": "python3"
  },
  "language_info": {
   "codemirror_mode": {
    "name": "ipython",
    "version": 3
   },
   "file_extension": ".py",
   "mimetype": "text/x-python",
   "name": "python",
   "nbconvert_exporter": "python",
   "pygments_lexer": "ipython3",
   "version": "3.9.13"
  }
 },
 "nbformat": 4,
 "nbformat_minor": 5
}
