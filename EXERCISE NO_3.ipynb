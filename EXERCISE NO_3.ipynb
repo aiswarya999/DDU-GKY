{
 "cells": [
  {
   "cell_type": "markdown",
   "id": "908df958",
   "metadata": {},
   "source": [
    "#### 1.Write a Python program to multiply all the items in a list."
   ]
  },
  {
   "cell_type": "code",
   "execution_count": 1,
   "id": "dbee6117",
   "metadata": {},
   "outputs": [
    {
     "name": "stdout",
     "output_type": "stream",
     "text": [
      "120\n"
     ]
    }
   ],
   "source": [
    "x=[1,2,3,4,5]\n",
    "p=1\n",
    "for i in x:\n",
    "    p=p*i\n",
    "print(p)\n",
    "    "
   ]
  },
  {
   "cell_type": "markdown",
   "id": "5d9cbda6",
   "metadata": {},
   "source": [
    "#### 2.Write a Python program to get the largest number from a list.\n"
   ]
  },
  {
   "cell_type": "code",
   "execution_count": 2,
   "id": "039536be",
   "metadata": {},
   "outputs": [
    {
     "name": "stdout",
     "output_type": "stream",
     "text": [
      "63\n"
     ]
    }
   ],
   "source": [
    "a=[2,42,63,8]\n",
    "print(max(a))"
   ]
  },
  {
   "cell_type": "markdown",
   "id": "e81041be",
   "metadata": {},
   "source": [
    "#### 3.Write a Python program to get the smallest number from a list."
   ]
  },
  {
   "cell_type": "code",
   "execution_count": 3,
   "id": "b637502d",
   "metadata": {},
   "outputs": [
    {
     "name": "stdout",
     "output_type": "stream",
     "text": [
      "2\n"
     ]
    }
   ],
   "source": [
    "a=[2,42,63,8]\n",
    "print(min(a))"
   ]
  },
  {
   "cell_type": "markdown",
   "id": "844199db",
   "metadata": {},
   "source": [
    "#### 4.Write a Python program to count the number of strings from a given list of strings. The string length is 2 or more and the first and last characters are the same."
   ]
  },
  {
   "cell_type": "code",
   "execution_count": 4,
   "id": "f3e0f843",
   "metadata": {},
   "outputs": [
    {
     "name": "stdout",
     "output_type": "stream",
     "text": [
      "3\n"
     ]
    }
   ],
   "source": [
    "## Sample List : ['abc', 'xyz', 'aba', '1221']\n",
    "## Expected Result : 2\n",
    "\n",
    "a=['abc', 'xyz', 'aba', '1221','sas']\n",
    "count=0\n",
    "for i in a:\n",
    "    if(i[0]==i[-1]):\n",
    "        count=count+1\n",
    "print(count)"
   ]
  },
  {
   "cell_type": "markdown",
   "id": "a67b08d7",
   "metadata": {},
   "source": [
    "#### 5.Write a Python program to remove duplicates from a list."
   ]
  },
  {
   "cell_type": "code",
   "execution_count": 5,
   "id": "d4142b6e",
   "metadata": {},
   "outputs": [
    {
     "name": "stdout",
     "output_type": "stream",
     "text": [
      "[2, 4, 6, 8, 9, 10]\n"
     ]
    }
   ],
   "source": [
    "a=[2,4,6,2,8,9,6,4,10]\n",
    "b=[]\n",
    "for i in a:\n",
    "    if i not in b:\n",
    "        b.append(i)\n",
    "print(b)        "
   ]
  },
  {
   "cell_type": "markdown",
   "id": "1ef20d65",
   "metadata": {},
   "source": [
    "#### 6..Write a Python program to check if a list is empty or not."
   ]
  },
  {
   "cell_type": "code",
   "execution_count": 6,
   "id": "92d70cf6",
   "metadata": {},
   "outputs": [
    {
     "name": "stdout",
     "output_type": "stream",
     "text": [
      "its empty\n"
     ]
    }
   ],
   "source": [
    "a=[]\n",
    "if len(a)==0:\n",
    "    print(\"its empty\")\n",
    "else:\n",
    "    print(\"its not empty\")"
   ]
  },
  {
   "cell_type": "markdown",
   "id": "af64d370",
   "metadata": {},
   "source": [
    "#### 7.Write a Python program to find the list of words that are longer than n from a given list of words."
   ]
  },
  {
   "cell_type": "code",
   "execution_count": 7,
   "id": "f2600abd",
   "metadata": {},
   "outputs": [
    {
     "name": "stdout",
     "output_type": "stream",
     "text": [
      "['orange', 'pinneapple', 'jackfruit']\n"
     ]
    }
   ],
   "source": [
    "x=['apple','orange','grape','pinneapple','jackfruit']\n",
    "y=[]\n",
    "for i in x:\n",
    "    if len(i)>len(x):\n",
    "        y.append(i)\n",
    "print(y)        \n",
    "        "
   ]
  },
  {
   "cell_type": "markdown",
   "id": "2a678ac3",
   "metadata": {},
   "source": [
    "#### 8.Write a Python program to print a specified list after removing the 0th, 4th and 5th elements."
   ]
  },
  {
   "cell_type": "code",
   "execution_count": 8,
   "id": "360eb9e5",
   "metadata": {},
   "outputs": [
    {
     "name": "stdout",
     "output_type": "stream",
     "text": [
      "['Green', 'White', 'Black']\n"
     ]
    }
   ],
   "source": [
    "## Sample List : ['Red', 'Green', 'White', 'Black', 'Pink', 'Yellow']\n",
    "## Expected Output : ['Green', 'White', 'Black']\n",
    "\n",
    "a=['Red', 'Green', 'White', 'Black', 'Pink', 'Yellow']\n",
    "a.pop(0)\n",
    "a.pop(3)\n",
    "a.pop(3)\n",
    "print(a)"
   ]
  },
  {
   "cell_type": "code",
   "execution_count": 9,
   "id": "bfbe0e7f",
   "metadata": {},
   "outputs": [
    {
     "name": "stdout",
     "output_type": "stream",
     "text": [
      "['Green', 'White', 'Black']\n"
     ]
    }
   ],
   "source": [
    "a=['Red', 'Green', 'White', 'Black', 'Pink', 'Yellow']\n",
    "b=[]\n",
    "c=[0,4,5]\n",
    "for i in range (len(a)):\n",
    "    if i not in c:\n",
    "        b.append(a[i])\n",
    "print(b)        "
   ]
  },
  {
   "cell_type": "markdown",
   "id": "a135a372",
   "metadata": {},
   "source": [
    "#### 9.Write a Python program to check if each number is prime in a given list of numbers. Return True if all numbers are prime otherwise False."
   ]
  },
  {
   "cell_type": "code",
   "execution_count": 11,
   "id": "5b9ea88d",
   "metadata": {},
   "outputs": [],
   "source": [
    "n = 5\n",
    "if n > 1:\n",
    "    for i in range(2, int(n/2)+1):\n",
    "        if (n % i) == 0:\n",
    "            print(num, \"is not a prime number\")\n",
    "        break\n",
    "    else:\n",
    "        print(n, \"is a prime number\")\n",
    "else:\n",
    "    print(n, \"is not a prime number\")"
   ]
  },
  {
   "cell_type": "markdown",
   "id": "eb520a27",
   "metadata": {},
   "source": [
    "#### 10.Write a Python program to convert a list of characters into a string."
   ]
  },
  {
   "cell_type": "code",
   "execution_count": 16,
   "id": "a1484042",
   "metadata": {},
   "outputs": [
    {
     "name": "stdout",
     "output_type": "stream",
     "text": [
      "my name is me "
     ]
    },
    {
     "data": {
      "text/plain": [
       "str"
      ]
     },
     "execution_count": 16,
     "metadata": {},
     "output_type": "execute_result"
    }
   ],
   "source": [
    "a=['my','name','is','me']\n",
    "for i in a:\n",
    "    print(str(i),end=\" \")\n",
    "type(a)   \n",
    "type(i)"
   ]
  },
  {
   "cell_type": "markdown",
   "id": "8b047f14",
   "metadata": {},
   "source": [
    "#### 11.Write a Python program to find the second smallest number in a list"
   ]
  },
  {
   "cell_type": "code",
   "execution_count": 18,
   "id": "1499cf99",
   "metadata": {},
   "outputs": [
    {
     "name": "stdout",
     "output_type": "stream",
     "text": [
      "2\n"
     ]
    }
   ],
   "source": [
    "a=[1,2,3,4,5]\n",
    "a.remove(min(a))\n",
    "print(min(a))"
   ]
  },
  {
   "cell_type": "markdown",
   "id": "2cb3145a",
   "metadata": {},
   "source": [
    "#### 12.Write a Python program to find the second largest number in a list."
   ]
  },
  {
   "cell_type": "code",
   "execution_count": 19,
   "id": "52371d68",
   "metadata": {},
   "outputs": [
    {
     "name": "stdout",
     "output_type": "stream",
     "text": [
      "4\n"
     ]
    }
   ],
   "source": [
    "a=[1,2,3,4,5]\n",
    "a.remove(max(a))\n",
    "print(max(a))"
   ]
  },
  {
   "cell_type": "markdown",
   "id": "cd49e756",
   "metadata": {},
   "source": [
    "#### 13.Write a Python program to check whether a list contains a sub-list."
   ]
  },
  {
   "cell_type": "code",
   "execution_count": null,
   "id": "2cc5ed9f",
   "metadata": {},
   "outputs": [],
   "source": []
  },
  {
   "cell_type": "markdown",
   "id": "7da02d18",
   "metadata": {},
   "source": [
    "#### 14.Write a Python program to find common items in two lists."
   ]
  },
  {
   "cell_type": "code",
   "execution_count": 24,
   "id": "34bc3343",
   "metadata": {},
   "outputs": [
    {
     "name": "stdout",
     "output_type": "stream",
     "text": [
      "aswathi suhaina reshmi sreeleshmi aswathi suhaina reshmi sreeleshmi aswathi suhaina reshmi sreeleshmi aswathi suhaina reshmi sreeleshmi "
     ]
    }
   ],
   "source": [
    "a=['aishu','reshu','aswathi','doniya']\n",
    "b=['aswathi','suhaina','reshmi','sreeleshmi']\n",
    "for i in a:\n",
    "    for i in b:\n",
    "        print(i ,end=\" \")"
   ]
  },
  {
   "cell_type": "code",
   "execution_count": null,
   "id": "5ffb9aa0",
   "metadata": {},
   "outputs": [],
   "source": []
  }
 ],
 "metadata": {
  "kernelspec": {
   "display_name": "Python 3 (ipykernel)",
   "language": "python",
   "name": "python3"
  },
  "language_info": {
   "codemirror_mode": {
    "name": "ipython",
    "version": 3
   },
   "file_extension": ".py",
   "mimetype": "text/x-python",
   "name": "python",
   "nbconvert_exporter": "python",
   "pygments_lexer": "ipython3",
   "version": "3.9.13"
  }
 },
 "nbformat": 4,
 "nbformat_minor": 5
}
