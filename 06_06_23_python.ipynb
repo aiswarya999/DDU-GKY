{
 "cells": [
  {
   "cell_type": "code",
   "execution_count": 1,
   "id": "cfae7dab",
   "metadata": {},
   "outputs": [],
   "source": [
    "list1 = ['apple','orange','grape']"
   ]
  },
  {
   "cell_type": "markdown",
   "id": "9d803551",
   "metadata": {},
   "source": [
    "### print the seconditem of the list"
   ]
  },
  {
   "cell_type": "code",
   "execution_count": 2,
   "id": "6c1c7d00",
   "metadata": {},
   "outputs": [
    {
     "name": "stdout",
     "output_type": "stream",
     "text": [
      "orange\n"
     ]
    }
   ],
   "source": [
    "print(list1[1])"
   ]
  },
  {
   "cell_type": "markdown",
   "id": "2fd5037e",
   "metadata": {},
   "source": [
    "### change apple to lemon"
   ]
  },
  {
   "cell_type": "code",
   "execution_count": 3,
   "id": "b5c085d5",
   "metadata": {},
   "outputs": [
    {
     "name": "stdout",
     "output_type": "stream",
     "text": [
      "['lemon', 'orange', 'grape']\n"
     ]
    }
   ],
   "source": [
    "list1[0]='lemon'\n",
    "print(list1)"
   ]
  },
  {
   "cell_type": "markdown",
   "id": "4ce7b2f6",
   "metadata": {},
   "source": [
    "## add watermelon to the list"
   ]
  },
  {
   "cell_type": "code",
   "execution_count": 4,
   "id": "903b205d",
   "metadata": {},
   "outputs": [
    {
     "name": "stdout",
     "output_type": "stream",
     "text": [
      "['apple', 'orange', 'grape', 'watermelon']\n",
      "['apple', 'orange', 'grape', 'watermelon']\n"
     ]
    }
   ],
   "source": [
    "list1 = ['apple','orange','grape']\n",
    "list2=['watermelon']\n",
    "list3=list1+list2\n",
    "print(list3)\n",
    "\n",
    "### or\n",
    "\n",
    "list1.append('watermelon')\n",
    "print(list1)"
   ]
  },
  {
   "cell_type": "markdown",
   "id": "d30be42f",
   "metadata": {},
   "source": [
    "### remove item orange"
   ]
  },
  {
   "cell_type": "code",
   "execution_count": 5,
   "id": "2aa0af5c",
   "metadata": {},
   "outputs": [
    {
     "name": "stdout",
     "output_type": "stream",
     "text": [
      "['apple', 'grape', 'watermelon']\n"
     ]
    }
   ],
   "source": [
    "list1.remove('orange')\n",
    "print(list1)"
   ]
  },
  {
   "cell_type": "markdown",
   "id": "72a6d15d",
   "metadata": {},
   "source": [
    "### print the last item"
   ]
  },
  {
   "cell_type": "code",
   "execution_count": 6,
   "id": "b255a52c",
   "metadata": {},
   "outputs": [
    {
     "name": "stdout",
     "output_type": "stream",
     "text": [
      "watermelon\n"
     ]
    }
   ],
   "source": [
    "print(list1[-1])"
   ]
  },
  {
   "cell_type": "markdown",
   "id": "7350e41f",
   "metadata": {},
   "source": [
    "## print the 1st and 2nd item"
   ]
  },
  {
   "cell_type": "code",
   "execution_count": 7,
   "id": "f7b57922",
   "metadata": {},
   "outputs": [
    {
     "name": "stdout",
     "output_type": "stream",
     "text": [
      "['apple', 'grape']\n"
     ]
    }
   ],
   "source": [
    "print(list1[0:2])"
   ]
  },
  {
   "cell_type": "markdown",
   "id": "656977a4",
   "metadata": {},
   "source": [
    "## to find the length "
   ]
  },
  {
   "cell_type": "code",
   "execution_count": 8,
   "id": "a290d5f2",
   "metadata": {},
   "outputs": [
    {
     "data": {
      "text/plain": [
       "3"
      ]
     },
     "execution_count": 8,
     "metadata": {},
     "output_type": "execute_result"
    }
   ],
   "source": [
    "len(list1)"
   ]
  },
  {
   "cell_type": "markdown",
   "id": "2873a1d3",
   "metadata": {},
   "source": [
    "##  PYTHON CONDITIONAL STATEMENTS"
   ]
  },
  {
   "cell_type": "markdown",
   "id": "ab2d6f8e",
   "metadata": {},
   "source": [
    "## IF"
   ]
  },
  {
   "cell_type": "code",
   "execution_count": 9,
   "id": "6084c25f",
   "metadata": {},
   "outputs": [
    {
     "name": "stdout",
     "output_type": "stream",
     "text": [
      "b is greater than a\n"
     ]
    }
   ],
   "source": [
    "a=5\n",
    "b=10\n",
    "if b>a:\n",
    "  print(\"b is greater than a\")"
   ]
  },
  {
   "cell_type": "markdown",
   "id": "253b9a31",
   "metadata": {},
   "source": [
    "## ELSE IF"
   ]
  },
  {
   "cell_type": "code",
   "execution_count": 10,
   "id": "27eda9f6",
   "metadata": {},
   "outputs": [
    {
     "name": "stdout",
     "output_type": "stream",
     "text": [
      "b is greater\n"
     ]
    }
   ],
   "source": [
    "if a>b:\n",
    "    print(\"a is greater\")\n",
    "elif a<b:\n",
    "    print(\"b is greater\")    \n",
    "elif a == b:\n",
    "    print(\"both are equal\")\n",
    "else:\n",
    "     print(\"no mathching\")   "
   ]
  },
  {
   "cell_type": "markdown",
   "id": "28f07fed",
   "metadata": {},
   "source": [
    "## NESTED IF"
   ]
  },
  {
   "cell_type": "code",
   "execution_count": 11,
   "id": "a565035f",
   "metadata": {},
   "outputs": [
    {
     "name": "stdout",
     "output_type": "stream",
     "text": [
      "10\n"
     ]
    }
   ],
   "source": [
    "x = 10\n",
    "if x<14:\n",
    "    if x>5:\n",
    "        print(x)"
   ]
  },
  {
   "cell_type": "markdown",
   "id": "b415ca58",
   "metadata": {},
   "source": [
    "## LOGICAL OPERATORS [AND,OR,NOT]"
   ]
  },
  {
   "cell_type": "code",
   "execution_count": 12,
   "id": "16ef793c",
   "metadata": {},
   "outputs": [],
   "source": [
    "if a>b or a<10:\n",
    "    pass          ## if there is nothing to execute or code"
   ]
  },
  {
   "cell_type": "markdown",
   "id": "fb68c4fe",
   "metadata": {},
   "source": [
    "### WHILE LOOP"
   ]
  },
  {
   "cell_type": "code",
   "execution_count": 13,
   "id": "635f40de",
   "metadata": {},
   "outputs": [
    {
     "name": "stdout",
     "output_type": "stream",
     "text": [
      "1\n",
      "2\n",
      "3\n",
      "4\n",
      "5\n"
     ]
    }
   ],
   "source": [
    "i = 1\n",
    "while(i<6):\n",
    "    print(i)\n",
    "    i+=1"
   ]
  },
  {
   "cell_type": "markdown",
   "id": "a1d935bd",
   "metadata": {},
   "source": [
    "#### to break and exist from the loop"
   ]
  },
  {
   "cell_type": "code",
   "execution_count": 14,
   "id": "a16363e4",
   "metadata": {},
   "outputs": [
    {
     "name": "stdout",
     "output_type": "stream",
     "text": [
      "1\n",
      "2\n",
      "3\n"
     ]
    }
   ],
   "source": [
    "i=1\n",
    "while(i<6):\n",
    "    print(i)\n",
    "    if i == 3:\n",
    "        break\n",
    "    i+=1"
   ]
  },
  {
   "cell_type": "markdown",
   "id": "94722711",
   "metadata": {},
   "source": [
    "### FOR LOOP"
   ]
  },
  {
   "cell_type": "code",
   "execution_count": 15,
   "id": "d92f9598",
   "metadata": {},
   "outputs": [
    {
     "name": "stdout",
     "output_type": "stream",
     "text": [
      "0\n",
      "1\n",
      "2\n",
      "3\n",
      "4\n",
      "5\n"
     ]
    }
   ],
   "source": [
    "for i in range(6):\n",
    "    print(i)"
   ]
  },
  {
   "cell_type": "code",
   "execution_count": 16,
   "id": "e1f5ee5e",
   "metadata": {},
   "outputs": [
    {
     "name": "stdout",
     "output_type": "stream",
     "text": [
      "1\n",
      "2\n",
      "3\n",
      "4\n",
      "5\n"
     ]
    }
   ],
   "source": [
    "for i in range(1,6):\n",
    "    print(i)"
   ]
  },
  {
   "cell_type": "code",
   "execution_count": 17,
   "id": "dafd5374",
   "metadata": {},
   "outputs": [
    {
     "name": "stdout",
     "output_type": "stream",
     "text": [
      "1\n",
      "3\n",
      "5\n"
     ]
    }
   ],
   "source": [
    "for i in range(1,6,2):\n",
    "    print(i)"
   ]
  },
  {
   "cell_type": "markdown",
   "id": "5d16fa15",
   "metadata": {},
   "source": [
    "### write a programm to check whether a num entered by user is even or odd"
   ]
  },
  {
   "cell_type": "code",
   "execution_count": 18,
   "id": "11d1ed0a",
   "metadata": {},
   "outputs": [
    {
     "name": "stdout",
     "output_type": "stream",
     "text": [
      "enter a number:3\n",
      "a is odd\n"
     ]
    }
   ],
   "source": [
    "a=int(input(\"enter a number:\"))\n",
    "if a% 2 == 0:\n",
    "    print(\"a is even\")\n",
    "else:\n",
    "    print(\"a is odd\")"
   ]
  },
  {
   "cell_type": "markdown",
   "id": "37b5c97e",
   "metadata": {},
   "source": [
    "### write a programm to check whether a person is eligible for voting or not"
   ]
  },
  {
   "cell_type": "code",
   "execution_count": 19,
   "id": "37a1dc0b",
   "metadata": {},
   "outputs": [
    {
     "name": "stdout",
     "output_type": "stream",
     "text": [
      "enter age:4\n",
      "not eligible\n"
     ]
    }
   ],
   "source": [
    "v= int(input(\"enter age:\"))\n",
    "if v>=18:\n",
    "    print(\"eligible\")\n",
    "else:\n",
    "    print(\"not eligible\")"
   ]
  },
  {
   "cell_type": "markdown",
   "id": "ea2a7495",
   "metadata": {},
   "source": [
    "### write a programm to check whether a num is divisible by 7 or not"
   ]
  },
  {
   "cell_type": "code",
   "execution_count": 20,
   "id": "eba545fb",
   "metadata": {},
   "outputs": [
    {
     "name": "stdout",
     "output_type": "stream",
     "text": [
      "enter a num: 14\n",
      "it is divisible\n"
     ]
    }
   ],
   "source": [
    "num=int(input(\"enter a num: \"))\n",
    "if num%7==0:\n",
    "    print(\"it is divisible\")\n",
    "else:\n",
    "    print(\"it is not possible\")"
   ]
  },
  {
   "cell_type": "markdown",
   "id": "c4989e46",
   "metadata": {},
   "source": [
    "### write a program to display \"hello\" if a num entered by user is a multiple of 5, otherwise print \"bye\""
   ]
  },
  {
   "cell_type": "code",
   "execution_count": 23,
   "id": "b11c1fa6",
   "metadata": {},
   "outputs": [
    {
     "name": "stdout",
     "output_type": "stream",
     "text": [
      "enter a num: 6\n",
      "bye\n"
     ]
    }
   ],
   "source": [
    "a = int (input(\"enter a num: \"))\n",
    "if a%5 == 0:\n",
    "    print(\"hello\")\n",
    "else:\n",
    "    print(\"bye\")"
   ]
  },
  {
   "cell_type": "markdown",
   "id": "57680074",
   "metadata": {},
   "source": [
    "### write a programm to accept percentage from user and display the grade according to the following criteria"
   ]
  },
  {
   "cell_type": "code",
   "execution_count": 27,
   "id": "b850b359",
   "metadata": {},
   "outputs": [
    {
     "name": "stdout",
     "output_type": "stream",
     "text": [
      "enter a number: 90\n",
      "B\n"
     ]
    }
   ],
   "source": [
    "#Marks          Grade\n",
    "#>90              A\n",
    "#>80 and <=90     B\n",
    "#>=60 and <=80    C\n",
    "#below 60         D\n",
    "\n",
    "\n",
    "Mark = int (input(\"enter a number: \"))\n",
    "if Mark > 90:\n",
    "    print(\"A\")\n",
    "elif Mark>80 and Mark<=90:\n",
    "    print(\"B\")\n",
    "elif Mark>=60 and Mark<=80:\n",
    "    print(\"C\")\n",
    "else:\n",
    "    print(D)"
   ]
  },
  {
   "cell_type": "code",
   "execution_count": null,
   "id": "be99e2e2",
   "metadata": {},
   "outputs": [],
   "source": []
  }
 ],
 "metadata": {
  "kernelspec": {
   "display_name": "Python 3 (ipykernel)",
   "language": "python",
   "name": "python3"
  },
  "language_info": {
   "codemirror_mode": {
    "name": "ipython",
    "version": 3
   },
   "file_extension": ".py",
   "mimetype": "text/x-python",
   "name": "python",
   "nbconvert_exporter": "python",
   "pygments_lexer": "ipython3",
   "version": "3.9.13"
  }
 },
 "nbformat": 4,
 "nbformat_minor": 5
}
