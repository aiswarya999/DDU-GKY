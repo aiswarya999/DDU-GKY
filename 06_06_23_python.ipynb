{
 "cells": [
  {
   "cell_type": "code",
   "execution_count": 1,
   "id": "be1a1a52",
   "metadata": {},
   "outputs": [],
   "source": [
    "list1 = ['apple','orange','grape']"
   ]
  },
  {
   "cell_type": "markdown",
   "id": "c751af5c",
   "metadata": {},
   "source": [
    "### print the seconditem of the list"
   ]
  },
  {
   "cell_type": "code",
   "execution_count": 2,
   "id": "6ada143f",
   "metadata": {},
   "outputs": [
    {
     "name": "stdout",
     "output_type": "stream",
     "text": [
      "orange\n"
     ]
    }
   ],
   "source": [
    "print(list1[1])"
   ]
  },
  {
   "cell_type": "markdown",
   "id": "1349ba19",
   "metadata": {},
   "source": [
    "### change apple to lemon"
   ]
  },
  {
   "cell_type": "code",
   "execution_count": 3,
   "id": "472c89c2",
   "metadata": {},
   "outputs": [
    {
     "name": "stdout",
     "output_type": "stream",
     "text": [
      "['lemon', 'orange', 'grape']\n"
     ]
    }
   ],
   "source": [
    "list1[0]='lemon'\n",
    "print(list1)"
   ]
  },
  {
   "cell_type": "markdown",
   "id": "5ebcecda",
   "metadata": {},
   "source": [
    "## add watermelon to the list"
   ]
  },
  {
   "cell_type": "code",
   "execution_count": 4,
   "id": "0ab4de97",
   "metadata": {},
   "outputs": [
    {
     "name": "stdout",
     "output_type": "stream",
     "text": [
      "['apple', 'orange', 'grape', 'watermelon']\n",
      "['apple', 'orange', 'grape', 'watermelon']\n"
     ]
    }
   ],
   "source": [
    "list1 = ['apple','orange','grape']\n",
    "list2=['watermelon']\n",
    "list3=list1+list2\n",
    "print(list3)\n",
    "\n",
    "### or\n",
    "\n",
    "list1.append('watermelon')\n",
    "print(list1)"
   ]
  },
  {
   "cell_type": "markdown",
   "id": "2f4ed375",
   "metadata": {},
   "source": [
    "### remove item orange"
   ]
  },
  {
   "cell_type": "code",
   "execution_count": 5,
   "id": "7f32c831",
   "metadata": {},
   "outputs": [
    {
     "name": "stdout",
     "output_type": "stream",
     "text": [
      "['apple', 'grape', 'watermelon']\n"
     ]
    }
   ],
   "source": [
    "list1.remove('orange')\n",
    "print(list1)"
   ]
  },
  {
   "cell_type": "markdown",
   "id": "d7f2e308",
   "metadata": {},
   "source": [
    "### print the last item"
   ]
  },
  {
   "cell_type": "code",
   "execution_count": 6,
   "id": "3365c325",
   "metadata": {},
   "outputs": [
    {
     "name": "stdout",
     "output_type": "stream",
     "text": [
      "watermelon\n"
     ]
    }
   ],
   "source": [
    "print(list1[-1])"
   ]
  },
  {
   "cell_type": "markdown",
   "id": "781fc256",
   "metadata": {},
   "source": [
    "## print the 1st and 2nd item"
   ]
  },
  {
   "cell_type": "code",
   "execution_count": 7,
   "id": "a67ea596",
   "metadata": {},
   "outputs": [
    {
     "name": "stdout",
     "output_type": "stream",
     "text": [
      "['apple', 'grape']\n"
     ]
    }
   ],
   "source": [
    "print(list1[0:2])"
   ]
  },
  {
   "cell_type": "markdown",
   "id": "15c9a646",
   "metadata": {},
   "source": [
    "## to find the length "
   ]
  },
  {
   "cell_type": "code",
   "execution_count": 8,
   "id": "eb75996c",
   "metadata": {},
   "outputs": [
    {
     "data": {
      "text/plain": [
       "3"
      ]
     },
     "execution_count": 8,
     "metadata": {},
     "output_type": "execute_result"
    }
   ],
   "source": [
    "len(list1)"
   ]
  },
  {
   "cell_type": "markdown",
   "id": "fb544cf9",
   "metadata": {},
   "source": [
    "##  PYTHON CONDITIONAL STATEMENTS"
   ]
  },
  {
   "cell_type": "markdown",
   "id": "eca680c1",
   "metadata": {},
   "source": [
    "## IF"
   ]
  },
  {
   "cell_type": "code",
   "execution_count": 9,
   "id": "bc862bb2",
   "metadata": {},
   "outputs": [
    {
     "name": "stdout",
     "output_type": "stream",
     "text": [
      "b is greater than a\n"
     ]
    }
   ],
   "source": [
    "a=5\n",
    "b=10\n",
    "if b>a:\n",
    "  print(\"b is greater than a\")"
   ]
  },
  {
   "cell_type": "markdown",
   "id": "48a91345",
   "metadata": {},
   "source": [
    "## ELSE IF"
   ]
  },
  {
   "cell_type": "code",
   "execution_count": 10,
   "id": "07d39a41",
   "metadata": {},
   "outputs": [
    {
     "name": "stdout",
     "output_type": "stream",
     "text": [
      "b is greater\n"
     ]
    }
   ],
   "source": [
    "if a>b:\n",
    "    print(\"a is greater\")\n",
    "elif a<b:\n",
    "    print(\"b is greater\")    \n",
    "elif a == b:\n",
    "    print(\"both are equal\")\n",
    "else:\n",
    "     print(\"no mathching\")   "
   ]
  },
  {
   "cell_type": "markdown",
   "id": "4a6f5327",
   "metadata": {},
   "source": [
    "## NESTED IF"
   ]
  },
  {
   "cell_type": "code",
   "execution_count": 11,
   "id": "0d86b489",
   "metadata": {},
   "outputs": [
    {
     "name": "stdout",
     "output_type": "stream",
     "text": [
      "10\n"
     ]
    }
   ],
   "source": [
    "x = 10\n",
    "if x<14:\n",
    "    if x>5:\n",
    "        print(x)"
   ]
  },
  {
   "cell_type": "markdown",
   "id": "3e9d9c13",
   "metadata": {},
   "source": [
    "## LOGICAL OPERATORS [AND,OR,NOT]"
   ]
  },
  {
   "cell_type": "code",
   "execution_count": 12,
   "id": "82a9c179",
   "metadata": {},
   "outputs": [],
   "source": [
    "if a>b or a<10:\n",
    "    pass          ## if there is nothing to execute or code"
   ]
  },
  {
   "cell_type": "markdown",
   "id": "2fa87563",
   "metadata": {},
   "source": [
    "### WHILE LOOP"
   ]
  },
  {
   "cell_type": "code",
   "execution_count": 13,
   "id": "5d8bf446",
   "metadata": {},
   "outputs": [
    {
     "name": "stdout",
     "output_type": "stream",
     "text": [
      "1\n",
      "2\n",
      "3\n",
      "4\n",
      "5\n"
     ]
    }
   ],
   "source": [
    "i = 1\n",
    "while(i<6):\n",
    "    print(i)\n",
    "    i+=1"
   ]
  },
  {
   "cell_type": "markdown",
   "id": "b26a3af9",
   "metadata": {},
   "source": [
    "#### to break and exist from the loop"
   ]
  },
  {
   "cell_type": "code",
   "execution_count": 14,
   "id": "229dbe9f",
   "metadata": {},
   "outputs": [
    {
     "name": "stdout",
     "output_type": "stream",
     "text": [
      "1\n",
      "2\n",
      "3\n"
     ]
    }
   ],
   "source": [
    "i=1\n",
    "while(i<6):\n",
    "    print(i)\n",
    "    if i == 3:\n",
    "        break\n",
    "    i+=1"
   ]
  },
  {
   "cell_type": "markdown",
   "id": "2ab8cabd",
   "metadata": {},
   "source": [
    "### FOR LOOP"
   ]
  },
  {
   "cell_type": "code",
   "execution_count": 15,
   "id": "dd602246",
   "metadata": {},
   "outputs": [
    {
     "name": "stdout",
     "output_type": "stream",
     "text": [
      "0\n",
      "1\n",
      "2\n",
      "3\n",
      "4\n",
      "5\n"
     ]
    }
   ],
   "source": [
    "for i in range(6):\n",
    "    print(i)"
   ]
  },
  {
   "cell_type": "code",
   "execution_count": 16,
   "id": "93107456",
   "metadata": {},
   "outputs": [
    {
     "name": "stdout",
     "output_type": "stream",
     "text": [
      "1\n",
      "2\n",
      "3\n",
      "4\n",
      "5\n"
     ]
    }
   ],
   "source": [
    "for i in range(1,6):\n",
    "    print(i)"
   ]
  },
  {
   "cell_type": "code",
   "execution_count": 17,
   "id": "a94463bf",
   "metadata": {},
   "outputs": [
    {
     "name": "stdout",
     "output_type": "stream",
     "text": [
      "1\n",
      "3\n",
      "5\n"
     ]
    }
   ],
   "source": [
    "for i in range(1,6,2):\n",
    "    print(i)"
   ]
  },
  {
   "cell_type": "markdown",
   "id": "047eaeaf",
   "metadata": {},
   "source": [
    "### write a programm to check whether a num entered by user is even or odd"
   ]
  },
  {
   "cell_type": "code",
   "execution_count": 18,
   "id": "a5229dcd",
   "metadata": {},
   "outputs": [
    {
     "name": "stdout",
     "output_type": "stream",
     "text": [
      "enter a number:2\n",
      "a is even\n"
     ]
    }
   ],
   "source": [
    "a=int(input(\"enter a number:\"))\n",
    "if a% 2 == 0:\n",
    "    print(\"a is even\")\n",
    "else:\n",
    "    print(\"a is odd\")"
   ]
  },
  {
   "cell_type": "markdown",
   "id": "d90d105c",
   "metadata": {},
   "source": [
    "### write a programm to check whether a person is eligible for voting or not"
   ]
  },
  {
   "cell_type": "code",
   "execution_count": 19,
   "id": "31639742",
   "metadata": {},
   "outputs": [
    {
     "name": "stdout",
     "output_type": "stream",
     "text": [
      "enter age:24\n",
      "eligible\n"
     ]
    }
   ],
   "source": [
    "v= int(input(\"enter age:\"))\n",
    "if v>=18:\n",
    "    print(\"eligible\")\n",
    "else:\n",
    "    print(\"not eligible\")"
   ]
  },
  {
   "cell_type": "code",
   "execution_count": null,
   "id": "607df9df",
   "metadata": {},
   "outputs": [],
   "source": []
  }
 ],
 "metadata": {
  "kernelspec": {
   "display_name": "Python 3 (ipykernel)",
   "language": "python",
   "name": "python3"
  },
  "language_info": {
   "codemirror_mode": {
    "name": "ipython",
    "version": 3
   },
   "file_extension": ".py",
   "mimetype": "text/x-python",
   "name": "python",
   "nbconvert_exporter": "python",
   "pygments_lexer": "ipython3",
   "version": "3.9.13"
  }
 },
 "nbformat": 4,
 "nbformat_minor": 5
}
