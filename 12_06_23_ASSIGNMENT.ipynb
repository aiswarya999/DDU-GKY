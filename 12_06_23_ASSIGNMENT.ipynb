{
 "cells": [
  {
   "cell_type": "markdown",
   "id": "c74e1bea",
   "metadata": {},
   "source": [
    "#### 1. WRITE A PYTHON PROGRAM TO ADD TWO MATRICES USING NESTED FOR LOOP\n",
    "X=[[1,2,3], [4,5,6], [2,4,6]] \n",
    "Y=[[1,4,5], [3,6,9], [2,3,5]] \n"
   ]
  },
  {
   "cell_type": "code",
   "execution_count": 1,
   "id": "cc523d45",
   "metadata": {},
   "outputs": [
    {
     "name": "stdout",
     "output_type": "stream",
     "text": [
      "[[2, 6, 8], [7, 11, 15], [4, 7, 11]]\n"
     ]
    }
   ],
   "source": [
    "X=[[1,2,3], [4,5,6], [2,4,6]] \n",
    "Y=[[1,4,5], [3,6,9], [2,3,5]] \n",
    "\n",
    "z=[[0,0,0],[0,0,0],[0,0,0]]\n",
    "for i in range(len(X)):\n",
    "    for j in range(len(X[0])):\n",
    "        z[i][j]=X[i][j]+Y[i][j]\n",
    "print(z)"
   ]
  },
  {
   "cell_type": "markdown",
   "id": "7e1a2228",
   "metadata": {},
   "source": [
    "#### 2.WRITE A PYTHON PROGRAM TO TRANSPOSE TWO MATRICES USING NESTED FOR LOOP \n",
    "X=[[1,4,7], [2,3,5], [2,4,6]] \n",
    "Y=[[1,4,5], [3,6,9], [2,3,5]] \n"
   ]
  },
  {
   "cell_type": "code",
   "execution_count": 2,
   "id": "4e688262",
   "metadata": {},
   "outputs": [
    {
     "name": "stdout",
     "output_type": "stream",
     "text": [
      "[[1, 2, 2], [4, 3, 4], [7, 5, 6]]\n",
      "[[1, 3, 2], [4, 6, 3], [5, 9, 5]]\n"
     ]
    }
   ],
   "source": [
    "X=[[1,4,7], [2,3,5], [2,4,6]] \n",
    "Y=[[1,4,5], [3,6,9], [2,3,5]] \n",
    "\n",
    "x=[[0,0,0],[0,0,0],[0,0,0]]\n",
    "y=[[0,0,0],[0,0,0],[0,0,0]]\n",
    "for i in range(len(X)):\n",
    "    for j in range(len(X[0])):\n",
    "        x[i][j]=X[j][i]\n",
    "        y[i][j]=Y[j][i]\n",
    "print(x)\n",
    "print(y)"
   ]
  },
  {
   "cell_type": "markdown",
   "id": "41f6418e",
   "metadata": {},
   "source": [
    "#### 3. WRITE A PYTHON PROGRAM TO MULTIPLY TWO MATRICES USING NESTED FOR LOOP \n",
    "X=[[1,2,3], [4,5,6], [2,4,6]] \n",
    "Y=[[1,4,5,2], [3,6,9,5], [2,3,5,1]] \n"
   ]
  },
  {
   "cell_type": "code",
   "execution_count": 3,
   "id": "b54aebfe",
   "metadata": {},
   "outputs": [
    {
     "name": "stdout",
     "output_type": "stream",
     "text": [
      "[[13, 25, 38, 15], [31, 64, 95, 39], [26, 50, 76, 30]]\n"
     ]
    }
   ],
   "source": [
    "X=[[1,2,3], [4,5,6], [2,4,6]] \n",
    "Y=[[1,4,5,2], [3,6,9,5], [2,3,5,1]] \n",
    "\n",
    "x=[[0,0,0,0],[0,0,0,0],[0,0,0,0]]\n",
    "for i in range(len(X)):\n",
    "    for j in range(len(Y[0])):\n",
    "        for k in range(len(Y)):\n",
    "            x[i][j] += X[i][k]*Y[k][j] \n",
    "print(x)"
   ]
  },
  {
   "cell_type": "markdown",
   "id": "1230a25b",
   "metadata": {},
   "source": [
    "#### 4.Python program to convert the temperature in degree centigrade to Fahrenheit "
   ]
  },
  {
   "cell_type": "code",
   "execution_count": 4,
   "id": "ddc9eebf",
   "metadata": {},
   "outputs": [
    {
     "name": "stdout",
     "output_type": "stream",
     "text": [
      "30\n",
      "86.0\n"
     ]
    }
   ],
   "source": [
    "celisus = 30\n",
    "fahrenheit =(celisus*1.8)+32\n",
    "print(celisus )\n",
    "print(fahrenheit)"
   ]
  },
  {
   "cell_type": "markdown",
   "id": "cab15732",
   "metadata": {},
   "source": [
    "#### 5.Python program to find the sum of the digits of an integer using a while loop "
   ]
  },
  {
   "cell_type": "code",
   "execution_count": 5,
   "id": "c9d90298",
   "metadata": {},
   "outputs": [
    {
     "name": "stdout",
     "output_type": "stream",
     "text": [
      "18\n"
     ]
    }
   ],
   "source": [
    "a=567\n",
    "sum=0\n",
    "while(a>0):\n",
    "    x=a%10\n",
    "    sum=sum+x\n",
    "    a=a//10\n",
    "print(sum)"
   ]
  },
  {
   "cell_type": "markdown",
   "id": "c1c92730",
   "metadata": {},
   "source": [
    "#### 6.Make a two-player Rock-Paper-Scissors game. (Hint: Ask for player plays (using input), compare them, print out a message of congratulations to the winner, and ask if the players want to start a new game)"
   ]
  },
  {
   "cell_type": "code",
   "execution_count": 6,
   "id": "88726bb8",
   "metadata": {},
   "outputs": [
    {
     "name": "stdout",
     "output_type": "stream",
     "text": [
      "enter the 1st Rock\n",
      "enter the 2nd Paper\n",
      "b wins , congragulations\n",
      "do you want to start a new game\n"
     ]
    }
   ],
   "source": [
    "a=input('enter the 1st ')\n",
    "b=input('enter the 2nd ')\n",
    "if( a == 'Rock' or b == 'Paper'):\n",
    "    print(\"b wins , congragulations\")\n",
    "elif( a == 'Rock' or b == 'Scissors'):\n",
    "    print(\"a wins , congragulations\")\n",
    "elif( a == 'Paper' or b == 'Scissors'):\n",
    "    print(\"b wins, congragulations\")\n",
    "print(\"do you want to start a new game\")    "
   ]
  },
  {
   "cell_type": "code",
   "execution_count": 8,
   "id": "1c40f385",
   "metadata": {},
   "outputs": [
    {
     "name": "stdout",
     "output_type": "stream",
     "text": [
      "enter the 1st rock\n",
      "enter the 2nd rock\n",
      "it's a tie ,try again\n",
      "do you want to start a new game \n"
     ]
    }
   ],
   "source": [
    "a=input('enter the 1st ')\n",
    "b=input('enter the 2nd ')\n",
    "if a == b:\n",
    "    print(\"it's a tie ,try again\")\n",
    "    #print(\"do you want to start a new game \")\n",
    "elif(a == \"rock\" and b == \"scissors\") or (a == \"paper\" and b == \"rock\") or (a == \"scissors\" and b == \"paper\"):\n",
    "    print(\"a wins\") \n",
    "else:\n",
    "    print(\" b wins\")\n",
    "print(\"do you want to start a new game \")    "
   ]
  },
  {
   "cell_type": "code",
   "execution_count": null,
   "id": "554ab9f7",
   "metadata": {},
   "outputs": [],
   "source": []
  }
 ],
 "metadata": {
  "kernelspec": {
   "display_name": "Python 3 (ipykernel)",
   "language": "python",
   "name": "python3"
  },
  "language_info": {
   "codemirror_mode": {
    "name": "ipython",
    "version": 3
   },
   "file_extension": ".py",
   "mimetype": "text/x-python",
   "name": "python",
   "nbconvert_exporter": "python",
   "pygments_lexer": "ipython3",
   "version": "3.9.13"
  }
 },
 "nbformat": 4,
 "nbformat_minor": 5
}
